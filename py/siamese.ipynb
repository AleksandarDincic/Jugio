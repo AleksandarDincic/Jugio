{
 "cells": [
  {
   "cell_type": "code",
   "execution_count": 1,
   "metadata": {
    "executionInfo": {
     "elapsed": 11102,
     "status": "ok",
     "timestamp": 1663519849598,
     "user": {
      "displayName": "Aleksandar Dinčić",
      "userId": "13063972075488548933"
     },
     "user_tz": -120
    },
    "id": "p6OCB72ONt__"
   },
   "outputs": [],
   "source": [
    "import matplotlib.pyplot as plt\n",
    "import numpy as np\n",
    "import os\n",
    "import random\n",
    "import tensorflow as tf\n",
    "import requests\n",
    "import albumentations as A\n",
    "import json\n",
    "import time\n",
    "from functools import partial\n",
    "from PIL import Image\n",
    "from tensorflow.keras import applications\n",
    "from tensorflow.keras import layers\n",
    "from tensorflow.keras import losses\n",
    "from tensorflow.keras import optimizers\n",
    "from tensorflow.keras import metrics\n",
    "from tensorflow.keras import Model\n",
    "from tensorflow.keras.applications import resnet\n",
    "from tensorflow.keras.preprocessing.image import img_to_array\n",
    "target_shape = (200, 200)\n",
    "\n",
    "\n",
    "\n",
    "from pathlib import Path"
   ]
  },
  {
   "cell_type": "code",
   "execution_count": null,
   "metadata": {
    "colab": {
     "base_uri": "https://localhost:8080/"
    },
    "executionInfo": {
     "elapsed": 16245,
     "status": "ok",
     "timestamp": 1663519867677,
     "user": {
      "displayName": "Aleksandar Dinčić",
      "userId": "13063972075488548933"
     },
     "user_tz": -120
    },
    "id": "8VZk2Jr-f7ZX",
    "outputId": "814de6d8-e2c5-4d86-d338-6eb234cea81a"
   },
   "outputs": [],
   "source": [
    "from google.colab import drive\n",
    "drive.mount('/content/gdrive')"
   ]
  },
  {
   "cell_type": "code",
   "execution_count": null,
   "metadata": {
    "executionInfo": {
     "elapsed": 58988,
     "status": "ok",
     "timestamp": 1663519928034,
     "user": {
      "displayName": "Aleksandar Dinčić",
      "userId": "13063972075488548933"
     },
     "user_tz": -120
    },
    "id": "SldSCuUojYCi"
   },
   "outputs": [],
   "source": [
    "!tar -xf gdrive/MyDrive/jugio/images_skewed.tar.gz"
   ]
  },
  {
   "cell_type": "code",
   "execution_count": null,
   "metadata": {
    "executionInfo": {
     "elapsed": 234,
     "status": "ok",
     "timestamp": 1663519937677,
     "user": {
      "displayName": "Aleksandar Dinčić",
      "userId": "13063972075488548933"
     },
     "user_tz": -120
    },
    "id": "lKNUOcq-tAp5"
   },
   "outputs": [],
   "source": [
    "modelName='ident_model'\n",
    "version='v35'\n",
    "\n",
    "fullModelName = modelName + '_' + version"
   ]
  },
  {
   "cell_type": "code",
   "execution_count": null,
   "metadata": {
    "executionInfo": {
     "elapsed": 379,
     "status": "ok",
     "timestamp": 1663519940236,
     "user": {
      "displayName": "Aleksandar Dinčić",
      "userId": "13063972075488548933"
     },
     "user_tz": -120
    },
    "id": "Zt_MDha_hUn6"
   },
   "outputs": [],
   "source": [
    "augment = A.Compose([\n",
    "    A.RandomCrop(height=200, width = 200),\n",
    "    A.RandomBrightnessContrast(p=0.5, brightness_limit=[-0.2,0.4], contrast_limit=[-0.4,0.4]),\n",
    "    A.HueSaturationValue(hue_shift_limit=[-10,10], sat_shift_limit=[-20, 20], val_shift_limit=[-15,15], p=0.5),\n",
    "    A.GaussianBlur(p=0.3),\n",
    "    A.MedianBlur(blur_limit=3, p=0.3),\n",
    "])"
   ]
  },
  {
   "cell_type": "code",
   "execution_count": null,
   "metadata": {
    "executionInfo": {
     "elapsed": 211,
     "status": "ok",
     "timestamp": 1663519941495,
     "user": {
      "displayName": "Aleksandar Dinčić",
      "userId": "13063972075488548933"
     },
     "user_tz": -120
    },
    "id": "vbADeqQCg6Ih"
   },
   "outputs": [],
   "source": [
    "def augmentImage(srcArr):\n",
    "    return augment(image=srcArr)['image']"
   ]
  },
  {
   "cell_type": "code",
   "execution_count": null,
   "metadata": {
    "executionInfo": {
     "elapsed": 223,
     "status": "ok",
     "timestamp": 1663519943711,
     "user": {
      "displayName": "Aleksandar Dinčić",
      "userId": "13063972075488548933"
     },
     "user_tz": -120
    },
    "id": "I4Afx3nSN6S_"
   },
   "outputs": [],
   "source": [
    "imagesPath = os.path.join('data', 'img_cropped_skewed_v2')\n",
    "valImagesPath = os.path.join('data', 'img_cropped_skewed_val')"
   ]
  },
  {
   "cell_type": "code",
   "execution_count": null,
   "metadata": {
    "executionInfo": {
     "elapsed": 240,
     "status": "ok",
     "timestamp": 1663519945345,
     "user": {
      "displayName": "Aleksandar Dinčić",
      "userId": "13063972075488548933"
     },
     "user_tz": -120
    },
    "id": "k-57kmghOWDM"
   },
   "outputs": [],
   "source": [
    "def preprocess_image(filename, aug=False):\n",
    "    image_string = tf.io.read_file(filename)\n",
    "    image = tf.image.decode_jpeg(image_string, channels=1)\n",
    "    image = tf.image.grayscale_to_rgb(image)\n",
    "    #image = tf.image.convert_image_dtype(image, tf.float32)\n",
    "    image = tf.image.resize(image, target_shape)\n",
    "    if aug:\n",
    "        image = tf.image.random_crop(image,[170, 170, 3])\n",
    "        image = tf.image.resize(image, target_shape)\n",
    "    return image\n",
    "\n",
    "def preprocess_triplets(anchor, positive, negative):\n",
    "    return (\n",
    "        preprocess_image(anchor, True),\n",
    "        preprocess_image(positive, True),\n",
    "        preprocess_image(negative, True),\n",
    "    )\n"
   ]
  },
  {
   "cell_type": "code",
   "execution_count": null,
   "metadata": {
    "colab": {
     "base_uri": "https://localhost:8080/",
     "height": 269
    },
    "executionInfo": {
     "elapsed": 1117,
     "status": "ok",
     "timestamp": 1663519948849,
     "user": {
      "displayName": "Aleksandar Dinčić",
      "userId": "13063972075488548933"
     },
     "user_tz": -120
    },
    "id": "G1pyjvOQTK2l",
    "outputId": "ad44d2fd-88d6-484a-a12e-1f17f8fffcf0"
   },
   "outputs": [],
   "source": [
    "testImg = os.path.join(imagesPath, '111280' ,'111280_0.jpg')\n",
    "def test(t):\n",
    "    image_string = tf.io.read_file(t)\n",
    "    image = tf.image.decode_jpeg(image_string, channels=1)\n",
    "    image = tf.image.grayscale_to_rgb(image)\n",
    "    image = tf.image.resize(image, target_shape)\n",
    "    image = tf.image.random_crop(image,[170, 170, 3])\n",
    "    image = tf.image.resize(image, target_shape)\n",
    "    #print(image)\n",
    "    #print(resnet.preprocess_input(image))\n",
    "    plt.imshow(image / 255.)\n",
    "\n",
    "test(testImg)"
   ]
  },
  {
   "cell_type": "code",
   "execution_count": null,
   "metadata": {
    "executionInfo": {
     "elapsed": 227,
     "status": "ok",
     "timestamp": 1663519955292,
     "user": {
      "displayName": "Aleksandar Dinčić",
      "userId": "13063972075488548933"
     },
     "user_tz": -120
    },
    "id": "DPeVSWy7RXDu"
   },
   "outputs": [],
   "source": [
    "imageClasses = os.listdir(imagesPath)\n",
    "valImageClasses = os.listdir(valImagesPath)"
   ]
  },
  {
   "cell_type": "code",
   "execution_count": null,
   "metadata": {},
   "outputs": [],
   "source": [
    "anchorImages = []\n",
    "positiveImages = []\n",
    "negativeImages = []"
   ]
  },
  {
   "cell_type": "code",
   "execution_count": null,
   "metadata": {},
   "outputs": [],
   "source": [
    "valAnchorImages = []\n",
    "valPositiveImages = []\n",
    "valNegativeImages = []"
   ]
  },
  {
   "cell_type": "code",
   "execution_count": null,
   "metadata": {
    "executionInfo": {
     "elapsed": 87122,
     "status": "ok",
     "timestamp": 1663510450502,
     "user": {
      "displayName": "Aleksandar Dinčić",
      "userId": "13063972075488548933"
     },
     "user_tz": -120
    },
    "id": "iVLoGx514vyB"
   },
   "outputs": [],
   "source": [
    "rng = np.random.default_rng(5656)\n",
    "\n",
    "image_count = len(imageClasses)\n",
    "\n",
    "for imageClass in imageClasses:\n",
    "    imageClassFolder = os.path.join(imagesPath, imageClass)\n",
    "    images = sorted(os.listdir(imageClassFolder))\n",
    "    \n",
    "    anchorImagePath = os.path.join(imageClassFolder, images[0])\n",
    "\n",
    "    for i in range(1, len(images)):\n",
    "        \n",
    "        positiveImagePath = os.path.join(imageClassFolder, images[i])\n",
    "  \n",
    "        negativeImageClass = rng.choice(imageClasses)\n",
    "        while negativeImageClass == imageClass:\n",
    "            negativeImageClass = rng.choice(imageClasses)\n",
    "        negativeImageClassFolder = os.path.join(imagesPath, negativeImageClass)\n",
    "        negativeImagePath = os.path.join(negativeImageClassFolder, rng.choice(os.listdir(negativeImageClassFolder)))\n",
    "\n",
    "        anchorImages.append(anchorImagePath)\n",
    "        positiveImages.append(positiveImagePath)\n",
    "        negativeImages.append(negativeImagePath)"
   ]
  },
  {
   "cell_type": "code",
   "execution_count": null,
   "metadata": {},
   "outputs": [],
   "source": [
    "for i in range(100):\n",
    "    print(anchorImages[i])\n",
    "    print(positiveImages[i])\n",
    "    print(negativeImages[i])"
   ]
  },
  {
   "cell_type": "code",
   "execution_count": null,
   "metadata": {},
   "outputs": [],
   "source": [
    "print(len(anchorImages))"
   ]
  },
  {
   "cell_type": "code",
   "execution_count": null,
   "metadata": {},
   "outputs": [],
   "source": [
    "anchorJsonPath = 'dsJSON/anchor_v29.json'\n",
    "positiveJsonPath = 'dsJSON/positive_v29.json'\n",
    "negativeJsonPath = 'dsJSON/negative_v29.json'\n",
    "\n",
    "with open(anchorJsonPath, 'r') as f:\n",
    "    #f.write(json.dumps(anchorImages))\n",
    "    anchorImages = json.load(f)\n",
    "    \n",
    "with open(positiveJsonPath, 'r') as f:\n",
    "    #f.write(json.dumps(positiveImages))\n",
    "    positiveImages = json.load(f)\n",
    "\n",
    "with open(negativeJsonPath, 'r') as f:\n",
    "    #f.write(json.dumps(negativeImages))\n",
    "    negativeImages = json.load(f)"
   ]
  },
  {
   "cell_type": "code",
   "execution_count": null,
   "metadata": {},
   "outputs": [],
   "source": [
    "valAnchorJsonPath = 'dsJSON/anchor_val.json'\n",
    "valPositiveJsonPath = 'dsJSON/positive_val.json'\n",
    "valNegativeJsonPath = 'dsJSON/negative_val.json'\n",
    "\n",
    "with open(valAnchorJsonPath, 'r') as f:\n",
    "    #f.write(json.dumps(anchorImages))\n",
    "    valAnchorImages = json.load(f)\n",
    "    \n",
    "with open(valPositiveJsonPath, 'r') as f:\n",
    "    #f.write(json.dumps(positiveImages))\n",
    "    valPositiveImages = json.load(f)\n",
    "\n",
    "with open(valNegativeJsonPath, 'r') as f:\n",
    "    #f.write(json.dumps(negativeImages))\n",
    "    valNegativeImages = json.load(f)"
   ]
  },
  {
   "cell_type": "code",
   "execution_count": null,
   "metadata": {},
   "outputs": [],
   "source": [
    "print(len(valAnchorImages))"
   ]
  },
  {
   "cell_type": "code",
   "execution_count": null,
   "metadata": {
    "colab": {
     "base_uri": "https://localhost:8080/"
    },
    "executionInfo": {
     "elapsed": 1205,
     "status": "ok",
     "timestamp": 1663510454303,
     "user": {
      "displayName": "Aleksandar Dinčić",
      "userId": "13063972075488548933"
     },
     "user_tz": -120
    },
    "id": "4sONNDjif7FQ",
    "outputId": "19d2dc17-e12d-4349-e255-5f0e9e4c8cdf"
   },
   "outputs": [],
   "source": [
    "anchor_dataset = tf.data.Dataset.from_tensor_slices(anchorImages)\n",
    "positive_dataset = tf.data.Dataset.from_tensor_slices(positiveImages)\n",
    "negative_dataset = tf.data.Dataset.from_tensor_slices(negativeImages)\n",
    "\n",
    "dataset = tf.data.Dataset.zip((anchor_dataset, positive_dataset, negative_dataset))\n",
    "dataset = dataset.shuffle(buffer_size=1024)\n",
    "dataset = dataset.map(preprocess_triplets)\n",
    "\n",
    "print(dataset)\n",
    "\n",
    "train_dataset = dataset\n",
    "\n",
    "train_dataset = train_dataset.batch(32, drop_remainder=False)\n",
    "train_dataset = train_dataset.prefetch(buffer_size=tf.data.AUTOTUNE)"
   ]
  },
  {
   "cell_type": "code",
   "execution_count": null,
   "metadata": {},
   "outputs": [],
   "source": [
    "valAnchor_dataset = tf.data.Dataset.from_tensor_slices(valAnchorImages)\n",
    "valPositive_dataset = tf.data.Dataset.from_tensor_slices(valPositiveImages)\n",
    "valNegative_dataset = tf.data.Dataset.from_tensor_slices(valNegativeImages)\n",
    "\n",
    "valDataset = tf.data.Dataset.zip((valAnchor_dataset, valPositive_dataset, valNegative_dataset))\n",
    "valDataset = valDataset.shuffle(buffer_size=1024)\n",
    "valDataset = valDataset.map(preprocess_triplets)\n",
    "\n",
    "print(valDataset)\n",
    "\n",
    "val_dataset = valDataset\n",
    "\n",
    "val_dataset = val_dataset.batch(32, drop_remainder=False)\n",
    "val_dataset = val_dataset.prefetch(buffer_size=tf.data.AUTOTUNE)"
   ]
  },
  {
   "cell_type": "code",
   "execution_count": null,
   "metadata": {
    "colab": {
     "base_uri": "https://localhost:8080/",
     "height": 524
    },
    "executionInfo": {
     "elapsed": 1342,
     "status": "ok",
     "timestamp": 1663510485831,
     "user": {
      "displayName": "Aleksandar Dinčić",
      "userId": "13063972075488548933"
     },
     "user_tz": -120
    },
    "id": "spB7NXeOOoJB",
    "outputId": "65be2281-a3d8-46c9-c4c9-993ace698085"
   },
   "outputs": [],
   "source": [
    "def visualize(anchor, positive, negative):\n",
    "  \n",
    "    def show(ax, image):\n",
    "        ax.imshow(image / 255.)\n",
    "        ax.get_xaxis().set_visible(False)\n",
    "        ax.get_yaxis().set_visible(False)\n",
    "\n",
    "    fig = plt.figure(figsize=(6, 6))\n",
    "\n",
    "    axs = fig.subplots(3, 3)\n",
    "    for i in range(3):\n",
    "        show(axs[i, 0], anchor[i])\n",
    "        show(axs[i, 1], positive[i])\n",
    "        show(axs[i, 2], negative[i])\n",
    "\n",
    "\n",
    "visualize(*list(train_dataset.take(1).as_numpy_iterator())[0])"
   ]
  },
  {
   "cell_type": "code",
   "execution_count": null,
   "metadata": {
    "colab": {
     "base_uri": "https://localhost:8080/"
    },
    "executionInfo": {
     "elapsed": 3636,
     "status": "ok",
     "timestamp": 1663510512763,
     "user": {
      "displayName": "Aleksandar Dinčić",
      "userId": "13063972075488548933"
     },
     "user_tz": -120
    },
    "id": "FPIZpaZlOu1x",
    "outputId": "c44c11b4-e793-4957-9446-ccb5105633f8"
   },
   "outputs": [],
   "source": [
    "base_cnn = resnet.ResNet101(\n",
    "    weights=\"imagenet\", input_shape=target_shape + (3,), include_top=False\n",
    ")\n",
    "\n",
    "flatten = layers.Flatten()(base_cnn.output)\n",
    "dense1 = layers.Dense(512, activation=\"relu\")(flatten)\n",
    "dense1 = layers.BatchNormalization()(dense1)\n",
    "dense2 = layers.Dense(256, activation=\"relu\")(dense1)\n",
    "dense2 = layers.BatchNormalization()(dense2)\n",
    "output = layers.Dense(256)(dense2)\n",
    "\n",
    "embedding = Model(base_cnn.input, output)\n",
    "\n",
    "trainable = False\n",
    "for layer in base_cnn.layers:\n",
    "    if layer.name == \"conv5_block1_out\":\n",
    "        trainable = True\n",
    "    layer.trainable = trainable"
   ]
  },
  {
   "cell_type": "code",
   "execution_count": null,
   "metadata": {
    "executionInfo": {
     "elapsed": 1479,
     "status": "ok",
     "timestamp": 1663510516351,
     "user": {
      "displayName": "Aleksandar Dinčić",
      "userId": "13063972075488548933"
     },
     "user_tz": -120
    },
    "id": "b4X-LsU8O1UY"
   },
   "outputs": [],
   "source": [
    "class DistanceLayer(layers.Layer):\n",
    "    \n",
    "    def __init__(self, **kwargs):\n",
    "        super().__init__(**kwargs)\n",
    "\n",
    "    def call(self, anchor, positive, negative):\n",
    "        ap_distance = tf.reduce_sum(tf.square(anchor - positive), -1)\n",
    "        an_distance = tf.reduce_sum(tf.square(anchor - negative), -1)\n",
    "        return (ap_distance, an_distance)\n",
    "\n",
    "\n",
    "anchor_input = layers.Input(name=\"anchor\", shape=target_shape + (3,))\n",
    "positive_input = layers.Input(name=\"positive\", shape=target_shape + (3,))\n",
    "negative_input = layers.Input(name=\"negative\", shape=target_shape + (3,))\n",
    "\n",
    "distances = DistanceLayer()(\n",
    "    embedding(resnet.preprocess_input(anchor_input)),\n",
    "    embedding(resnet.preprocess_input(positive_input)),\n",
    "    embedding(resnet.preprocess_input(negative_input)),\n",
    ")\n",
    "\n",
    "siamese_network = Model(\n",
    "    inputs=[anchor_input, positive_input, negative_input], outputs=distances\n",
    ")"
   ]
  },
  {
   "cell_type": "code",
   "execution_count": null,
   "metadata": {
    "executionInfo": {
     "elapsed": 240,
     "status": "ok",
     "timestamp": 1663510523756,
     "user": {
      "displayName": "Aleksandar Dinčić",
      "userId": "13063972075488548933"
     },
     "user_tz": -120
    },
    "id": "5spgNApIO5P4"
   },
   "outputs": [],
   "source": [
    "class SiameseModel(Model):\n",
    "    \n",
    "    def __init__(self, siamese_network, margin=0.5):\n",
    "        super(SiameseModel, self).__init__()\n",
    "        self.siamese_network = siamese_network\n",
    "        self.margin = margin\n",
    "        self.loss_tracker = metrics.Mean(name=\"loss\")\n",
    "\n",
    "    def call(self, inputs):\n",
    "        return self.siamese_network(inputs)\n",
    "\n",
    "    def train_step(self, data):\n",
    "        with tf.GradientTape() as tape:\n",
    "            loss = self._compute_loss(data)\n",
    "\n",
    "        gradients = tape.gradient(loss, self.siamese_network.trainable_weights)\n",
    "\n",
    "        self.optimizer.apply_gradients(\n",
    "            zip(gradients, self.siamese_network.trainable_weights)\n",
    "        )\n",
    "\n",
    "        self.loss_tracker.update_state(loss)\n",
    "        return {\"loss\": self.loss_tracker.result()}\n",
    "\n",
    "    def test_step(self, data):\n",
    "        loss = self._compute_loss(data)\n",
    "\n",
    "        self.loss_tracker.update_state(loss)\n",
    "        return {\"loss\": self.loss_tracker.result()}\n",
    "\n",
    "    def _compute_loss(self, data):\n",
    "        ap_distance, an_distance = self.siamese_network(data)\n",
    "\n",
    "        loss = ap_distance - an_distance\n",
    "        loss = tf.maximum(loss + self.margin, 0.0)\n",
    "        return loss\n",
    "\n",
    "    @property\n",
    "    def metrics(self):\n",
    "        return [self.loss_tracker]\n"
   ]
  },
  {
   "cell_type": "code",
   "execution_count": null,
   "metadata": {
    "colab": {
     "base_uri": "https://localhost:8080/"
    },
    "executionInfo": {
     "elapsed": 259,
     "status": "ok",
     "timestamp": 1663510538121,
     "user": {
      "displayName": "Aleksandar Dinčić",
      "userId": "13063972075488548933"
     },
     "user_tz": -120
    },
    "id": "G1kR80A6C1xB",
    "outputId": "3ef9eb1a-70be-4a55-b9ce-78787ed2c72c"
   },
   "outputs": [],
   "source": [
    "checkpoint_filepath = \"chkpts/\" + version + \"-{epoch:02d}.hdf5\"\n",
    "print(checkpoint_filepath)\n",
    "model_checkpoint_callback = tf.keras.callbacks.ModelCheckpoint(\n",
    "    filepath=checkpoint_filepath,\n",
    "    save_weights_only=True)\n",
    "\n",
    "early_stopping_callback = tf.keras.callbacks.EarlyStopping(\n",
    "    monitor='val_loss',\n",
    "    mode='min',\n",
    "    patience=3,\n",
    "    verbose=1\n",
    ")"
   ]
  },
  {
   "cell_type": "code",
   "execution_count": null,
   "metadata": {},
   "outputs": [],
   "source": [
    "siamese_model = SiameseModel(siamese_network)\n",
    "#siamese_model.built = True"
   ]
  },
  {
   "cell_type": "code",
   "execution_count": null,
   "metadata": {},
   "outputs": [],
   "source": [
    "siamese_model.load_weights('v35-15.hdf5')"
   ]
  },
  {
   "cell_type": "code",
   "execution_count": null,
   "metadata": {
    "colab": {
     "base_uri": "https://localhost:8080/"
    },
    "executionInfo": {
     "elapsed": 480715,
     "status": "ok",
     "timestamp": 1663518294771,
     "user": {
      "displayName": "Aleksandar Dinčić",
      "userId": "13063972075488548933"
     },
     "user_tz": -120
    },
    "id": "z92aCNCeO783",
    "outputId": "6c09aebe-917a-46d7-fd92-b034742b52ea"
   },
   "outputs": [],
   "source": [
    "siamese_model.compile(optimizer=optimizers.Adam(0.0001))\n",
    "siamese_model.fit(train_dataset, epochs=30, validation_data=val_dataset, callbacks=[model_checkpoint_callback, early_stopping_callback])"
   ]
  },
  {
   "cell_type": "code",
   "execution_count": null,
   "metadata": {
    "colab": {
     "base_uri": "https://localhost:8080/"
    },
    "executionInfo": {
     "elapsed": 32453,
     "status": "ok",
     "timestamp": 1663518327209,
     "user": {
      "displayName": "Aleksandar Dinčić",
      "userId": "13063972075488548933"
     },
     "user_tz": -120
    },
    "id": "LipL7eMq_1GX",
    "outputId": "ef2fd19e-abe6-4f9d-b113-e1c81676136a"
   },
   "outputs": [],
   "source": [
    "embedding.save(fullModelName)\n",
    "#!tar -czvf {fullModelName}.tar.gz {fullModelName}\n",
    "#!mv {fullModelName}.tar.gz gdrive/MyDrive/jugio/{fullModelName}.tar.gz"
   ]
  },
  {
   "cell_type": "code",
   "execution_count": null,
   "metadata": {
    "colab": {
     "base_uri": "https://localhost:8080/",
     "height": 524
    },
    "executionInfo": {
     "elapsed": 1934,
     "status": "ok",
     "timestamp": 1663518576440,
     "user": {
      "displayName": "Aleksandar Dinčić",
      "userId": "13063972075488548933"
     },
     "user_tz": -120
    },
    "id": "M7RuYZsJSNUu",
    "outputId": "1bbce916-0644-4e5e-df33-6a2a0bd85dae"
   },
   "outputs": [],
   "source": [
    "sample = next(iter(train_dataset))\n",
    "visualize(*sample)\n",
    "\n",
    "anchor, positive, negative = sample\n",
    "anchor_embedding, positive_embedding, negative_embedding = (\n",
    "    embedding(resnet.preprocess_input(anchor)),\n",
    "    embedding(resnet.preprocess_input(positive)),\n",
    "    embedding(resnet.preprocess_input(negative)),\n",
    ")"
   ]
  },
  {
   "cell_type": "code",
   "execution_count": null,
   "metadata": {
    "colab": {
     "base_uri": "https://localhost:8080/"
    },
    "executionInfo": {
     "elapsed": 261,
     "status": "ok",
     "timestamp": 1663518579590,
     "user": {
      "displayName": "Aleksandar Dinčić",
      "userId": "13063972075488548933"
     },
     "user_tz": -120
    },
    "id": "fkCSx0vxSnQZ",
    "outputId": "aa5e3d70-ba03-424c-ba74-e0c9f685e3b7"
   },
   "outputs": [],
   "source": [
    "cosine_similarity = metrics.CosineSimilarity()\n",
    "\n",
    "positive_similarity = cosine_similarity(anchor_embedding, positive_embedding)\n",
    "print(\"Positive similarity:\", positive_similarity.numpy())\n",
    "\n",
    "negative_similarity = cosine_similarity(anchor_embedding, negative_embedding)\n",
    "print(\"Negative similarity\", negative_similarity.numpy())"
   ]
  },
  {
   "cell_type": "code",
   "execution_count": null,
   "metadata": {
    "executionInfo": {
     "elapsed": 9256,
     "status": "ok",
     "timestamp": 1663519986344,
     "user": {
      "displayName": "Aleksandar Dinčić",
      "userId": "13063972075488548933"
     },
     "user_tz": -120
    },
    "id": "fmTIxEvDSKJb"
   },
   "outputs": [],
   "source": [
    "!tar -xf gdrive/MyDrive/jugio/{fullModelName}.tar.gz"
   ]
  },
  {
   "cell_type": "code",
   "execution_count": null,
   "metadata": {
    "executionInfo": {
     "elapsed": 16880,
     "status": "ok",
     "timestamp": 1663520011219,
     "user": {
      "displayName": "Aleksandar Dinčić",
      "userId": "13063972075488548933"
     },
     "user_tz": -120
    },
    "id": "YUDAb0DCaSsl"
   },
   "outputs": [],
   "source": [
    "print(fullModelName)\n",
    "embedding = tf.keras.models.load_model(fullModelName, compile=False)"
   ]
  },
  {
   "cell_type": "code",
   "execution_count": null,
   "metadata": {
    "id": "nOOEbE9oRXD5",
    "outputId": "d2f8b60b-f113-4b3e-91fd-a7889c77e045",
    "scrolled": true
   },
   "outputs": [],
   "source": [
    "lmaoPath = 'data\\\\img_cropped_skewed\\\\44818\\\\44818_0.jpg'\n",
    "imageObj = preprocess_image(lmaoPath)\n",
    "imageObj = np.expand_dims(imageObj, axis=0)\n",
    "imageObj = tf.constant(imageObj)\n",
    "val = embedding(resnet.preprocess_input(imageObj)).numpy().tolist()[0]\n",
    "print(val)"
   ]
  },
  {
   "cell_type": "code",
   "execution_count": null,
   "metadata": {
    "id": "Dg1tUUy-RXD5",
    "outputId": "ee68aada-6305-4981-c0f3-2b4284fdd26a"
   },
   "outputs": [],
   "source": [
    "# Convert the model.\n",
    "converter = tf.lite.TFLiteConverter.from_keras_model(embedding)\n",
    "tflite_model = converter.convert()\n",
    "\n",
    "# Save the model.\n",
    "with open(fullModelName + '\\\\' + fullModelName + '.tflite', 'wb') as f:\n",
    "    f.write(tflite_model)\n"
   ]
  },
  {
   "cell_type": "code",
   "execution_count": null,
   "metadata": {
    "id": "knYHb3AeFZRx"
   },
   "outputs": [],
   "source": [
    "anchor, positive, negative = sample\n",
    "anchor_embedding, positive_embedding, negative_embedding = (\n",
    "    embedding(resnet.preprocess_input(anchor)),\n",
    "    embedding(resnet.preprocess_input(positive)),\n",
    "    embedding(resnet.preprocess_input(negative)),\n",
    ")"
   ]
  },
  {
   "cell_type": "code",
   "execution_count": null,
   "metadata": {
    "id": "0xa0pU0uFw84"
   },
   "outputs": [],
   "source": [
    "cosine_similarity = metrics.CosineSimilarity()\n",
    "\n",
    "positive_similarity = cosine_similarity(anchor_embedding, positive_embedding)\n",
    "print(\"Positive similarity:\", positive_similarity.numpy())\n",
    "\n",
    "negative_similarity = cosine_similarity(anchor_embedding, negative_embedding)\n",
    "print(\"Negative similarity\", negative_similarity.numpy())"
   ]
  },
  {
   "cell_type": "code",
   "execution_count": null,
   "metadata": {
    "id": "xGgQlLFmGbBQ"
   },
   "outputs": [],
   "source": [
    "correct = 0\n",
    "total = 0\n",
    "sample = next(iter(train_dataset), None)\n",
    "cosine_similarity = metrics.CosineSimilarity()\n",
    "\n",
    "for i in range(100):\n",
    "  anchor, positive, negative = sample\n",
    "  anchor_embedding, positive_embedding, negative_embedding = (\n",
    "      embedding(resnet.preprocess_input(anchor)),\n",
    "      embedding(resnet.preprocess_input(positive)),\n",
    "      embedding(resnet.preprocess_input(negative)),\n",
    "  )\n",
    "  \n",
    "  positive_similarity = cosine_similarity(anchor_embedding, positive_embedding)\n",
    "  negative_similarity = cosine_similarity(anchor_embedding, negative_embedding)\n",
    "\n",
    "  if(positive_similarity > negative_similarity):\n",
    "    correct = correct + 1\n",
    "\n",
    "  print(str(i), \" done\")\n",
    "  cosine_similarity.reset_state()\n",
    "  total = total + 1\n",
    "  sample = next(iter(train_dataset), None)\n",
    "\n",
    "print('Correct: ', str(correct))\n",
    "print('Total: ', str(total))"
   ]
  },
  {
   "cell_type": "code",
   "execution_count": null,
   "metadata": {
    "executionInfo": {
     "elapsed": 223,
     "status": "ok",
     "timestamp": 1663522330032,
     "user": {
      "displayName": "Aleksandar Dinčić",
      "userId": "13063972075488548933"
     },
     "user_tz": -120
    },
    "id": "qwzonSQjTK2y"
   },
   "outputs": [],
   "source": [
    "embeddingValues = {}"
   ]
  },
  {
   "cell_type": "code",
   "execution_count": null,
   "metadata": {
    "colab": {
     "base_uri": "https://localhost:8080/"
    },
    "executionInfo": {
     "elapsed": 3705333,
     "status": "ok",
     "timestamp": 1663526037084,
     "user": {
      "displayName": "Aleksandar Dinčić",
      "userId": "13063972075488548933"
     },
     "user_tz": -120
    },
    "id": "U9526l3gouDJ",
    "outputId": "2064216a-1ea0-48ed-9314-2ab9d091bb58"
   },
   "outputs": [],
   "source": [
    "cnt = 0\n",
    "for imageClass in imageClasses:\n",
    "    imageClassFolder = os.path.join(imagesPath, imageClass)\n",
    "    images = sorted(os.listdir(imageClassFolder))\n",
    "\n",
    "    valuesForClass = []\n",
    "\n",
    "    for image in images:\n",
    "        imagePath = os.path.join(imageClassFolder, image)\n",
    "        imageObj = preprocess_image(imagePath)\n",
    "        imageObj = np.expand_dims(imageObj, axis=0)\n",
    "        imageObj = tf.constant(imageObj)\n",
    "        val = embedding(resnet.preprocess_input(imageObj))\n",
    "        valuesForClass.append(val.numpy().tolist()[0])\n",
    "        print(image)\n",
    "        break\n",
    "\n",
    "    embeddingValues[imageClass] = valuesForClass\n",
    "    cnt = cnt + 1\n",
    "    print('Calculated ', str(cnt), ' out of ', len(imageClasses))"
   ]
  },
  {
   "cell_type": "code",
   "execution_count": null,
   "metadata": {
    "executionInfo": {
     "elapsed": 250,
     "status": "ok",
     "timestamp": 1663520119922,
     "user": {
      "displayName": "Aleksandar Dinčić",
      "userId": "13063972075488548933"
     },
     "user_tz": -120
    },
    "id": "MCEN6j7ivmFC"
   },
   "outputs": [],
   "source": [
    "import json"
   ]
  },
  {
   "cell_type": "code",
   "execution_count": null,
   "metadata": {
    "executionInfo": {
     "elapsed": 244,
     "status": "ok",
     "timestamp": 1663526091761,
     "user": {
      "displayName": "Aleksandar Dinčić",
      "userId": "13063972075488548933"
     },
     "user_tz": -120
    },
    "id": "44rLtgQlu6n0"
   },
   "outputs": [],
   "source": [
    "embeddingsFileName = 'embeddings_' + version + '.json'"
   ]
  },
  {
   "cell_type": "code",
   "execution_count": null,
   "metadata": {
    "executionInfo": {
     "elapsed": 5973,
     "status": "ok",
     "timestamp": 1663526073365,
     "user": {
      "displayName": "Aleksandar Dinčić",
      "userId": "13063972075488548933"
     },
     "user_tz": -120
    },
    "id": "NLkO05EovVv6"
   },
   "outputs": [],
   "source": [
    "with open(embeddingsFileName, 'w') as f:\n",
    "      f.write(json.dumps(embeddingValues)) "
   ]
  },
  {
   "cell_type": "code",
   "execution_count": null,
   "metadata": {
    "executionInfo": {
     "elapsed": 838,
     "status": "ok",
     "timestamp": 1663526101134,
     "user": {
      "displayName": "Aleksandar Dinčić",
      "userId": "13063972075488548933"
     },
     "user_tz": -120
    },
    "id": "kbaUERblSyKP"
   },
   "outputs": [],
   "source": [
    "!cp {embeddingsFileName} gdrive/MyDrive/jugio/again.json"
   ]
  },
  {
   "cell_type": "code",
   "execution_count": null,
   "metadata": {
    "executionInfo": {
     "elapsed": 1084,
     "status": "ok",
     "timestamp": 1663520052732,
     "user": {
      "displayName": "Aleksandar Dinčić",
      "userId": "13063972075488548933"
     },
     "user_tz": -120
    },
    "id": "SEv3UEjJhWF4"
   },
   "outputs": [],
   "source": [
    "!cp gdrive/MyDrive/jugio/{embeddingsFileName} {embeddingsFileName}"
   ]
  },
  {
   "cell_type": "code",
   "execution_count": null,
   "metadata": {
    "executionInfo": {
     "elapsed": 2684,
     "status": "ok",
     "timestamp": 1663526227363,
     "user": {
      "displayName": "Aleksandar Dinčić",
      "userId": "13063972075488548933"
     },
     "user_tz": -120
    },
    "id": "78rpYfJxTK20"
   },
   "outputs": [],
   "source": [
    "with open(embeddingsFileName, 'r') as f:\n",
    "    embeddingValues = json.load(f)"
   ]
  },
  {
   "cell_type": "code",
   "execution_count": null,
   "metadata": {
    "executionInfo": {
     "elapsed": 248,
     "status": "ok",
     "timestamp": 1663520214505,
     "user": {
      "displayName": "Aleksandar Dinčić",
      "userId": "13063972075488548933"
     },
     "user_tz": -120
    },
    "id": "z6WoHwNkfMHK"
   },
   "outputs": [],
   "source": [
    "def testEmbedding(testClass):\n",
    "    testEmbeddingPath = os.path.join(imagesPath, testClass, testClass + '_0.jpg')\n",
    "    imageObj = preprocess_image(testEmbeddingPath)\n",
    "    imageObj = np.expand_dims(imageObj, axis=0)\n",
    "    imageObj = tf.constant(imageObj)\n",
    "    val = embedding(resnet.preprocess_input(imageObj))\n",
    "    print(val.numpy().tolist()[0])"
   ]
  },
  {
   "cell_type": "code",
   "execution_count": null,
   "metadata": {
    "colab": {
     "base_uri": "https://localhost:8080/"
    },
    "executionInfo": {
     "elapsed": 688,
     "status": "ok",
     "timestamp": 1663526120240,
     "user": {
      "displayName": "Aleksandar Dinčić",
      "userId": "13063972075488548933"
     },
     "user_tz": -120
    },
    "id": "MBm4tKJ8fsNM",
    "outputId": "a13d7532-0bfe-4417-df04-bdd2dcd41285"
   },
   "outputs": [],
   "source": [
    "testEmbedding('100419007')"
   ]
  },
  {
   "cell_type": "code",
   "execution_count": null,
   "metadata": {
    "colab": {
     "base_uri": "https://localhost:8080/"
    },
    "executionInfo": {
     "elapsed": 5,
     "status": "ok",
     "timestamp": 1663526228570,
     "user": {
      "displayName": "Aleksandar Dinčić",
      "userId": "13063972075488548933"
     },
     "user_tz": -120
    },
    "id": "CJP6Fl_RTK20",
    "outputId": "652e08d4-92ec-4f6a-9e19-9fda9739f55a"
   },
   "outputs": [],
   "source": [
    "embeddingValues['100419007']"
   ]
  },
  {
   "cell_type": "code",
   "execution_count": null,
   "metadata": {
    "id": "Ld_rHOrQ1scl"
   },
   "outputs": [],
   "source": [
    "!cp embeddings.json gdrive/MyDrive/jugio/embeddings.json"
   ]
  },
  {
   "cell_type": "code",
   "execution_count": null,
   "metadata": {
    "executionInfo": {
     "elapsed": 213,
     "status": "ok",
     "timestamp": 1663520279940,
     "user": {
      "displayName": "Aleksandar Dinčić",
      "userId": "13063972075488548933"
     },
     "user_tz": -120
    },
    "id": "Zg6ojGEKJELg"
   },
   "outputs": [],
   "source": [
    "from numpy.linalg import norm"
   ]
  },
  {
   "cell_type": "code",
   "execution_count": null,
   "metadata": {
    "executionInfo": {
     "elapsed": 217,
     "status": "ok",
     "timestamp": 1663526117747,
     "user": {
      "displayName": "Aleksandar Dinčić",
      "userId": "13063972075488548933"
     },
     "user_tz": -120
    },
    "id": "lZR-AZO5wawf"
   },
   "outputs": [],
   "source": [
    "def predict(imagePath):\n",
    "    imageObj = preprocess_image(imagePath)\n",
    "    imageObj = np.expand_dims(imageObj, axis=0)\n",
    "    imageObj = tf.constant(imageObj)\n",
    "    val = embedding(resnet.preprocess_input(imageObj)).numpy().tolist()[0]\n",
    "    current_max = -1\n",
    "    current_card = None\n",
    "    for cardId, cardValues in embeddingValues.items():\n",
    "        for cardVal in cardValues:\n",
    "            #similarity = np.dot(val, cardVal)/(norm(val)*norm(cardVal))\n",
    "            similarity = norm(np.subtract(val, cardVal))\n",
    "            \n",
    "            if current_card is None or similarity < current_max:\n",
    "                current_max = similarity\n",
    "                current_card = cardId\n",
    "            \n",
    "            #if similarity > current_max:\n",
    "            #    current_max = similarity\n",
    "            #    current_card = cardId\n",
    "\n",
    "    return current_card, current_max"
   ]
  },
  {
   "cell_type": "code",
   "execution_count": null,
   "metadata": {
    "executionInfo": {
     "elapsed": 597,
     "status": "ok",
     "timestamp": 1663520284967,
     "user": {
      "displayName": "Aleksandar Dinčić",
      "userId": "13063972075488548933"
     },
     "user_tz": -120
    },
    "id": "Wk2c1YMqJvUg"
   },
   "outputs": [],
   "source": [
    "!cp gdrive/MyDrive/jugio/data_trunc.json data/data_trunc.json"
   ]
  },
  {
   "cell_type": "code",
   "execution_count": null,
   "metadata": {
    "executionInfo": {
     "elapsed": 4,
     "status": "ok",
     "timestamp": 1663520285857,
     "user": {
      "displayName": "Aleksandar Dinčić",
      "userId": "13063972075488548933"
     },
     "user_tz": -120
    },
    "id": "iUA9L9U5KIj3"
   },
   "outputs": [],
   "source": [
    "cardInfo = {}\n",
    "with open('data/data_trunc.json', 'r') as f:\n",
    "    cardInfoJson = json.load(f)\n",
    "    for card in cardInfoJson:\n",
    "        cardInfo[str(card['id'])] = card['name']"
   ]
  },
  {
   "cell_type": "code",
   "execution_count": null,
   "metadata": {
    "colab": {
     "base_uri": "https://localhost:8080/"
    },
    "executionInfo": {
     "elapsed": 2112,
     "status": "ok",
     "timestamp": 1663526134301,
     "user": {
      "displayName": "Aleksandar Dinčić",
      "userId": "13063972075488548933"
     },
     "user_tz": -120
    },
    "id": "3ThaG6Wu5NHu",
    "outputId": "1eca3c54-afdf-4ec1-f847-2873e08d14b2"
   },
   "outputs": [],
   "source": [
    "imagePath = 'blackback.jpg'\n",
    "\n",
    "card, max = predict(imagePath)\n",
    "print(cardInfo[card])"
   ]
  },
  {
   "cell_type": "code",
   "execution_count": null,
   "metadata": {
    "colab": {
     "base_uri": "https://localhost:8080/",
     "height": 286
    },
    "executionInfo": {
     "elapsed": 1128,
     "status": "ok",
     "timestamp": 1663526138225,
     "user": {
      "displayName": "Aleksandar Dinčić",
      "userId": "13063972075488548933"
     },
     "user_tz": -120
    },
    "id": "yWUGp5yC6bK5",
    "outputId": "49e6c573-0017-44df-a0b8-3b1c8e8b5008",
    "scrolled": true
   },
   "outputs": [],
   "source": [
    "imageObj = Image.open(imagePath)\n",
    "plt.imshow(imageObj)"
   ]
  },
  {
   "cell_type": "code",
   "execution_count": null,
   "metadata": {
    "executionInfo": {
     "elapsed": 312,
     "status": "ok",
     "timestamp": 1663520298221,
     "user": {
      "displayName": "Aleksandar Dinčić",
      "userId": "13063972075488548933"
     },
     "user_tz": -120
    },
    "id": "V_muTuZgTK23"
   },
   "outputs": [],
   "source": [
    "def testModel():\n",
    "    testDataFolderPath = os.path.join('data', 'test_v4')\n",
    "    testCards = os.listdir(testDataFolderPath)\n",
    "    correct = 0\n",
    "    total = 0\n",
    "    for testCard in testCards:\n",
    "        testCardPath = os.path.join(testDataFolderPath, testCard)\n",
    "        expectedResult = os.path.splitext(testCard)[0]\n",
    "        \n",
    "        result, resultScore = predict(testCardPath)\n",
    "        if result == expectedResult:\n",
    "            correct = correct + 1\n",
    "            \n",
    "        print(str(total), ': Expected ', expectedResult, ', got ', result)\n",
    "        total = total + 1\n",
    "        print('Correct: ', str(correct))\n",
    "        print('Total: ', str(total))"
   ]
  },
  {
   "cell_type": "code",
   "execution_count": null,
   "metadata": {
    "executionInfo": {
     "elapsed": 805,
     "status": "ok",
     "timestamp": 1663520301564,
     "user": {
      "displayName": "Aleksandar Dinčić",
      "userId": "13063972075488548933"
     },
     "user_tz": -120
    },
    "id": "P_ZYklz9VTsd"
   },
   "outputs": [],
   "source": [
    "!tar -xf gdrive/MyDrive/jugio/test.tar.gz"
   ]
  },
  {
   "cell_type": "code",
   "execution_count": null,
   "metadata": {
    "colab": {
     "base_uri": "https://localhost:8080/",
     "height": 729
    },
    "executionInfo": {
     "elapsed": 43818,
     "status": "error",
     "timestamp": 1663526189316,
     "user": {
      "displayName": "Aleksandar Dinčić",
      "userId": "13063972075488548933"
     },
     "user_tz": -120
    },
    "id": "76TMelwPTK23",
    "outputId": "baf12917-614d-4eab-dafc-15e6fc952117",
    "scrolled": true
   },
   "outputs": [],
   "source": [
    "testModel()"
   ]
  }
 ],
 "metadata": {
  "colab": {
   "collapsed_sections": [],
   "provenance": []
  },
  "kernelspec": {
   "display_name": "Python 3 (ipykernel)",
   "language": "python",
   "name": "python3"
  },
  "language_info": {
   "codemirror_mode": {
    "name": "ipython",
    "version": 3
   },
   "file_extension": ".py",
   "mimetype": "text/x-python",
   "name": "python",
   "nbconvert_exporter": "python",
   "pygments_lexer": "ipython3",
   "version": "3.9.13"
  }
 },
 "nbformat": 4,
 "nbformat_minor": 1
}
