{
 "cells": [
  {
   "cell_type": "code",
   "execution_count": null,
   "id": "43d5b1aa",
   "metadata": {},
   "outputs": [],
   "source": [
    "!pip install opencv-python"
   ]
  },
  {
   "cell_type": "code",
   "execution_count": null,
   "id": "cbf3b081",
   "metadata": {},
   "outputs": [],
   "source": [
    "!pip install --upgrade pyqt5 lxml"
   ]
  },
  {
   "cell_type": "code",
   "execution_count": 1,
   "id": "140d2536",
   "metadata": {},
   "outputs": [],
   "source": [
    "import os\n",
    "import wget"
   ]
  },
  {
   "cell_type": "code",
   "execution_count": 2,
   "id": "0f8267fa",
   "metadata": {},
   "outputs": [],
   "source": [
    "customModelName = 'card_localization'\n",
    "pretrainedModelName = 'ssd_mobilenet_v2_fpnlite_320x320_coco17_tpu-8'\n",
    "pretrainedModelUrl = 'http://download.tensorflow.org/models/object_detection/tf2/20200711/ssd_mobilenet_v2_fpnlite_320x320_coco17_tpu-8.tar.gz'\n",
    "tfRecordScriptName = 'generate_tfrecord.py'\n",
    "labelMapName = 'label_map.pbtxt'\n",
    "\n",
    "paths = {\n",
    "    'workspacePath': os.path.join('tf_localization', 'workspace'),\n",
    "    'scriptsPath': os.path.join('tf_localization', 'scripts'),\n",
    "    'apiModelPath': os.path.join('tf_localization', 'models'),\n",
    "    'annotationPath': os.path.join('tf_localization', 'workspace', 'annotations'),\n",
    "    'imagePath': os.path.join('tf_localization', 'workspace', 'images'),\n",
    "    'modelPath': os.path.join('tf_localization', 'workspace', 'models'),\n",
    "    'pretrainedModelPath': os.path.join('tf_localization', 'workspace', 'pre-trained-models'),\n",
    "    'checkpointPath': os.path.join('tf_localization', 'workspace', 'models', customModelName),\n",
    "    'outputPath': os.path.join('tf_localization', 'workspace', 'models', customModelName, 'export'),\n",
    "    'tfLitePath': os.path.join('tf_localization', 'workspace', 'models', customModelName, 'tfliteexport'),\n",
    "    'protocPath': os.path.join('tf_localization', 'protoc')\n",
    "}\n",
    "\n",
    "files = {\n",
    "    'pipelineConfig': os.path.join('tf_localization', 'workspace', 'models', customModelName, 'pipeline.config'),\n",
    "    'tfRecordScript': os.path.join(paths['scriptsPath'], tfRecordScriptName),\n",
    "    'labelMap': os.path.join(paths['annotationPath'], labelMapName)\n",
    "}"
   ]
  },
  {
   "cell_type": "code",
   "execution_count": 3,
   "id": "66ac6cb5",
   "metadata": {},
   "outputs": [],
   "source": [
    "for path in paths.values():\n",
    "    if not os.path.exists(path):\n",
    "        os.makedirs(path)"
   ]
  },
  {
   "cell_type": "code",
   "execution_count": 5,
   "id": "80a30be6",
   "metadata": {},
   "outputs": [],
   "source": [
    "objectDetectionReposPath = os.path.join(paths['apiModelPath'], 'research', 'object_detection')\n",
    "\n",
    "if not os.path.exists(objectDetectionReposPath):\n",
    "    !git clone https://github.com/tensorflow/models {paths['apiModelPath']}"
   ]
  },
  {
   "cell_type": "code",
   "execution_count": null,
   "id": "ac9882bb",
   "metadata": {},
   "outputs": [],
   "source": [
    "url=\"https://github.com/protocolbuffers/protobuf/releases/download/v3.15.6/protoc-3.15.6-win64.zip\"\n",
    "wget.download(url)\n",
    "!move protoc-3.15.6-win64.zip {paths['protocPath']}\n",
    "!cd {paths['protocPath']} && tar -xf protoc-3.15.6-win64.zip\n",
    "#os.environ['PATH'] += os.pathsep + os.path.abspath(os.path.join(paths['protocPath'], 'bin'))   \n",
    "!cd tf_localization/models/research && protoc object_detection/protos/*.proto --python_out=. && copy object_detection\\\\packages\\\\tf2\\\\setup.py setup.py && python setup.py build && python setup.py install\n",
    "!cd tf_localization/models/research/slim && pip install -e ."
   ]
  },
  {
   "cell_type": "code",
   "execution_count": null,
   "id": "77dabed9",
   "metadata": {},
   "outputs": [],
   "source": [
    "!pip install wrapt --upgrade"
   ]
  },
  {
   "cell_type": "code",
   "execution_count": 21,
   "id": "8b545e2d",
   "metadata": {},
   "outputs": [
    {
     "name": "stderr",
     "output_type": "stream",
     "text": [
      "2022-09-13 14:19:29.385457: W tensorflow/stream_executor/platform/default/dso_loader.cc:64] Could not load dynamic library 'nvcuda.dll'; dlerror: nvcuda.dll not found\n",
      "2022-09-13 14:19:29.385523: W tensorflow/stream_executor/cuda/cuda_driver.cc:263] failed call to cuInit: UNKNOWN ERROR (303)\n",
      "2022-09-13 14:19:29.393352: I tensorflow/stream_executor/cuda/cuda_diagnostics.cc:169] retrieving CUDA diagnostic information for host: DESKTOP-M46MH9P\n",
      "2022-09-13 14:19:29.393464: I tensorflow/stream_executor/cuda/cuda_diagnostics.cc:176] hostname: DESKTOP-M46MH9P\n",
      "Running tests under Python 3.9.13: D:\\conda_envs\\jugio\\python.exe\n",
      "[ RUN      ] ModelBuilderTF2Test.test_create_center_net_deepmac\n",
      "2022-09-13 14:19:29.470449: I tensorflow/core/platform/cpu_feature_guard.cc:193] This TensorFlow binary is optimized with oneAPI Deep Neural Network Library (oneDNN) to use the following CPU instructions in performance-critical operations:  AVX AVX2\n",
      "To enable them in other operations, rebuild TensorFlow with the appropriate compiler flags.\n",
      "D:\\conda_envs\\jugio\\lib\\site-packages\\object_detection-0.1-py3.9.egg\\object_detection\\builders\\model_builder.py:1102: DeprecationWarning: The 'warn' function is deprecated, use 'warning' instead\n",
      "  logging.warn(('Building experimental DeepMAC meta-arch.'\n",
      "W0913 14:19:29.872741  1428 model_builder.py:1102] Building experimental DeepMAC meta-arch. Some features may be omitted.\n",
      "INFO:tensorflow:time(__main__.ModelBuilderTF2Test.test_create_center_net_deepmac): 0.79s\n",
      "I0913 14:19:30.189010  1428 test_util.py:2460] time(__main__.ModelBuilderTF2Test.test_create_center_net_deepmac): 0.79s\n",
      "[       OK ] ModelBuilderTF2Test.test_create_center_net_deepmac\n",
      "[ RUN      ] ModelBuilderTF2Test.test_create_center_net_model0 (customize_head_params=True)\n",
      "INFO:tensorflow:time(__main__.ModelBuilderTF2Test.test_create_center_net_model0 (customize_head_params=True)): 1.34s\n",
      "I0913 14:19:31.530782  1428 test_util.py:2460] time(__main__.ModelBuilderTF2Test.test_create_center_net_model0 (customize_head_params=True)): 1.34s\n",
      "[       OK ] ModelBuilderTF2Test.test_create_center_net_model0 (customize_head_params=True)\n",
      "[ RUN      ] ModelBuilderTF2Test.test_create_center_net_model1 (customize_head_params=False)\n",
      "INFO:tensorflow:time(__main__.ModelBuilderTF2Test.test_create_center_net_model1 (customize_head_params=False)): 0.28s\n",
      "I0913 14:19:31.809532  1428 test_util.py:2460] time(__main__.ModelBuilderTF2Test.test_create_center_net_model1 (customize_head_params=False)): 0.28s\n",
      "[       OK ] ModelBuilderTF2Test.test_create_center_net_model1 (customize_head_params=False)\n",
      "[ RUN      ] ModelBuilderTF2Test.test_create_center_net_model_from_keypoints\n",
      "INFO:tensorflow:time(__main__.ModelBuilderTF2Test.test_create_center_net_model_from_keypoints): 0.25s\n",
      "I0913 14:19:32.079302  1428 test_util.py:2460] time(__main__.ModelBuilderTF2Test.test_create_center_net_model_from_keypoints): 0.25s\n",
      "[       OK ] ModelBuilderTF2Test.test_create_center_net_model_from_keypoints\n",
      "[ RUN      ] ModelBuilderTF2Test.test_create_center_net_model_mobilenet\n",
      "INFO:tensorflow:time(__main__.ModelBuilderTF2Test.test_create_center_net_model_mobilenet): 2.61s\n",
      "I0913 14:19:34.685901  1428 test_util.py:2460] time(__main__.ModelBuilderTF2Test.test_create_center_net_model_mobilenet): 2.61s\n",
      "[       OK ] ModelBuilderTF2Test.test_create_center_net_model_mobilenet\n",
      "[ RUN      ] ModelBuilderTF2Test.test_create_experimental_model\n",
      "INFO:tensorflow:time(__main__.ModelBuilderTF2Test.test_create_experimental_model): 0.0s\n",
      "I0913 14:19:34.693999  1428 test_util.py:2460] time(__main__.ModelBuilderTF2Test.test_create_experimental_model): 0.0s\n",
      "[       OK ] ModelBuilderTF2Test.test_create_experimental_model\n",
      "[ RUN      ] ModelBuilderTF2Test.test_create_faster_rcnn_from_config_with_crop_feature0 (True)\n",
      "INFO:tensorflow:time(__main__.ModelBuilderTF2Test.test_create_faster_rcnn_from_config_with_crop_feature0 (True)): 0.02s\n",
      "I0913 14:19:34.716303  1428 test_util.py:2460] time(__main__.ModelBuilderTF2Test.test_create_faster_rcnn_from_config_with_crop_feature0 (True)): 0.02s\n",
      "[       OK ] ModelBuilderTF2Test.test_create_faster_rcnn_from_config_with_crop_feature0 (True)\n",
      "[ RUN      ] ModelBuilderTF2Test.test_create_faster_rcnn_from_config_with_crop_feature1 (False)\n",
      "INFO:tensorflow:time(__main__.ModelBuilderTF2Test.test_create_faster_rcnn_from_config_with_crop_feature1 (False)): 0.02s\n",
      "I0913 14:19:34.736565  1428 test_util.py:2460] time(__main__.ModelBuilderTF2Test.test_create_faster_rcnn_from_config_with_crop_feature1 (False)): 0.02s\n",
      "[       OK ] ModelBuilderTF2Test.test_create_faster_rcnn_from_config_with_crop_feature1 (False)\n",
      "[ RUN      ] ModelBuilderTF2Test.test_create_faster_rcnn_model_from_config_with_example_miner\n",
      "INFO:tensorflow:time(__main__.ModelBuilderTF2Test.test_create_faster_rcnn_model_from_config_with_example_miner): 0.02s\n",
      "I0913 14:19:34.756890  1428 test_util.py:2460] time(__main__.ModelBuilderTF2Test.test_create_faster_rcnn_model_from_config_with_example_miner): 0.02s\n",
      "[       OK ] ModelBuilderTF2Test.test_create_faster_rcnn_model_from_config_with_example_miner\n",
      "[ RUN      ] ModelBuilderTF2Test.test_create_faster_rcnn_models_from_config_faster_rcnn_with_matmul\n",
      "INFO:tensorflow:time(__main__.ModelBuilderTF2Test.test_create_faster_rcnn_models_from_config_faster_rcnn_with_matmul): 0.1s\n",
      "I0913 14:19:34.858407  1428 test_util.py:2460] time(__main__.ModelBuilderTF2Test.test_create_faster_rcnn_models_from_config_faster_rcnn_with_matmul): 0.1s\n",
      "[       OK ] ModelBuilderTF2Test.test_create_faster_rcnn_models_from_config_faster_rcnn_with_matmul\n",
      "[ RUN      ] ModelBuilderTF2Test.test_create_faster_rcnn_models_from_config_faster_rcnn_without_matmul\n",
      "INFO:tensorflow:time(__main__.ModelBuilderTF2Test.test_create_faster_rcnn_models_from_config_faster_rcnn_without_matmul): 0.1s\n",
      "I0913 14:19:34.959959  1428 test_util.py:2460] time(__main__.ModelBuilderTF2Test.test_create_faster_rcnn_models_from_config_faster_rcnn_without_matmul): 0.1s\n",
      "[       OK ] ModelBuilderTF2Test.test_create_faster_rcnn_models_from_config_faster_rcnn_without_matmul\n",
      "[ RUN      ] ModelBuilderTF2Test.test_create_faster_rcnn_models_from_config_mask_rcnn_with_matmul\n",
      "INFO:tensorflow:time(__main__.ModelBuilderTF2Test.test_create_faster_rcnn_models_from_config_mask_rcnn_with_matmul): 0.1s\n",
      "I0913 14:19:35.060898  1428 test_util.py:2460] time(__main__.ModelBuilderTF2Test.test_create_faster_rcnn_models_from_config_mask_rcnn_with_matmul): 0.1s\n",
      "[       OK ] ModelBuilderTF2Test.test_create_faster_rcnn_models_from_config_mask_rcnn_with_matmul\n",
      "[ RUN      ] ModelBuilderTF2Test.test_create_faster_rcnn_models_from_config_mask_rcnn_without_matmul\n",
      "INFO:tensorflow:time(__main__.ModelBuilderTF2Test.test_create_faster_rcnn_models_from_config_mask_rcnn_without_matmul): 0.12s\n",
      "I0913 14:19:35.176850  1428 test_util.py:2460] time(__main__.ModelBuilderTF2Test.test_create_faster_rcnn_models_from_config_mask_rcnn_without_matmul): 0.12s\n",
      "[       OK ] ModelBuilderTF2Test.test_create_faster_rcnn_models_from_config_mask_rcnn_without_matmul\n",
      "[ RUN      ] ModelBuilderTF2Test.test_create_rfcn_model_from_config\n",
      "INFO:tensorflow:time(__main__.ModelBuilderTF2Test.test_create_rfcn_model_from_config): 0.1s\n",
      "I0913 14:19:35.277172  1428 test_util.py:2460] time(__main__.ModelBuilderTF2Test.test_create_rfcn_model_from_config): 0.1s\n",
      "[       OK ] ModelBuilderTF2Test.test_create_rfcn_model_from_config\n",
      "[ RUN      ] ModelBuilderTF2Test.test_create_ssd_fpn_model_from_config\n",
      "INFO:tensorflow:time(__main__.ModelBuilderTF2Test.test_create_ssd_fpn_model_from_config): 0.02s\n",
      "I0913 14:19:35.299347  1428 test_util.py:2460] time(__main__.ModelBuilderTF2Test.test_create_ssd_fpn_model_from_config): 0.02s\n",
      "[       OK ] ModelBuilderTF2Test.test_create_ssd_fpn_model_from_config\n",
      "[ RUN      ] ModelBuilderTF2Test.test_create_ssd_models_from_config\n",
      "I0913 14:19:35.477751  1428 ssd_efficientnet_bifpn_feature_extractor.py:145] EfficientDet EfficientNet backbone version: efficientnet-b0\n",
      "I0913 14:19:35.477751  1428 ssd_efficientnet_bifpn_feature_extractor.py:147] EfficientDet BiFPN num filters: 64\n",
      "I0913 14:19:35.477751  1428 ssd_efficientnet_bifpn_feature_extractor.py:148] EfficientDet BiFPN num iterations: 3\n",
      "I0913 14:19:35.477751  1428 efficientnet_model.py:143] round_filter input=32 output=32\n",
      "I0913 14:19:35.520241  1428 efficientnet_model.py:143] round_filter input=32 output=32\n",
      "I0913 14:19:35.520241  1428 efficientnet_model.py:143] round_filter input=16 output=16\n",
      "I0913 14:19:35.603411  1428 efficientnet_model.py:143] round_filter input=16 output=16\n",
      "I0913 14:19:35.603411  1428 efficientnet_model.py:143] round_filter input=24 output=24\n",
      "I0913 14:19:35.938646  1428 efficientnet_model.py:143] round_filter input=24 output=24\n",
      "I0913 14:19:35.938646  1428 efficientnet_model.py:143] round_filter input=40 output=40\n",
      "I0913 14:19:36.160961  1428 efficientnet_model.py:143] round_filter input=40 output=40\n",
      "I0913 14:19:36.160961  1428 efficientnet_model.py:143] round_filter input=80 output=80\n",
      "I0913 14:19:36.468459  1428 efficientnet_model.py:143] round_filter input=80 output=80\n",
      "I0913 14:19:36.468459  1428 efficientnet_model.py:143] round_filter input=112 output=112\n",
      "I0913 14:19:36.785114  1428 efficientnet_model.py:143] round_filter input=112 output=112\n",
      "I0913 14:19:36.800744  1428 efficientnet_model.py:143] round_filter input=192 output=192\n",
      "I0913 14:19:37.248796  1428 efficientnet_model.py:143] round_filter input=192 output=192\n",
      "I0913 14:19:37.248796  1428 efficientnet_model.py:143] round_filter input=320 output=320\n",
      "I0913 14:19:37.371201  1428 efficientnet_model.py:143] round_filter input=1280 output=1280\n",
      "I0913 14:19:37.449384  1428 efficientnet_model.py:453] Building model efficientnet with params ModelConfig(width_coefficient=1.0, depth_coefficient=1.0, resolution=224, dropout_rate=0.2, blocks=(BlockConfig(input_filters=32, output_filters=16, kernel_size=3, num_repeat=1, expand_ratio=1, strides=(1, 1), se_ratio=0.25, id_skip=True, fused_conv=False, conv_type='depthwise'), BlockConfig(input_filters=16, output_filters=24, kernel_size=3, num_repeat=2, expand_ratio=6, strides=(2, 2), se_ratio=0.25, id_skip=True, fused_conv=False, conv_type='depthwise'), BlockConfig(input_filters=24, output_filters=40, kernel_size=5, num_repeat=2, expand_ratio=6, strides=(2, 2), se_ratio=0.25, id_skip=True, fused_conv=False, conv_type='depthwise'), BlockConfig(input_filters=40, output_filters=80, kernel_size=3, num_repeat=3, expand_ratio=6, strides=(2, 2), se_ratio=0.25, id_skip=True, fused_conv=False, conv_type='depthwise'), BlockConfig(input_filters=80, output_filters=112, kernel_size=5, num_repeat=3, expand_ratio=6, strides=(1, 1), se_ratio=0.25, id_skip=True, fused_conv=False, conv_type='depthwise'), BlockConfig(input_filters=112, output_filters=192, kernel_size=5, num_repeat=4, expand_ratio=6, strides=(2, 2), se_ratio=0.25, id_skip=True, fused_conv=False, conv_type='depthwise'), BlockConfig(input_filters=192, output_filters=320, kernel_size=3, num_repeat=1, expand_ratio=6, strides=(1, 1), se_ratio=0.25, id_skip=True, fused_conv=False, conv_type='depthwise')), stem_base_filters=32, top_base_filters=1280, activation='simple_swish', batch_norm='default', bn_momentum=0.99, bn_epsilon=0.001, weight_decay=5e-06, drop_connect_rate=0.2, depth_divisor=8, min_depth=None, use_se=True, input_channels=3, num_classes=1000, model_name='efficientnet', rescale_input=False, data_format='channels_last', dtype='float32')\n",
      "I0913 14:19:37.502867  1428 ssd_efficientnet_bifpn_feature_extractor.py:145] EfficientDet EfficientNet backbone version: efficientnet-b1\n",
      "I0913 14:19:37.502867  1428 ssd_efficientnet_bifpn_feature_extractor.py:147] EfficientDet BiFPN num filters: 88\n",
      "I0913 14:19:37.502867  1428 ssd_efficientnet_bifpn_feature_extractor.py:148] EfficientDet BiFPN num iterations: 4\n",
      "I0913 14:19:37.502867  1428 efficientnet_model.py:143] round_filter input=32 output=32\n",
      "I0913 14:19:37.518489  1428 efficientnet_model.py:143] round_filter input=32 output=32\n",
      "I0913 14:19:37.518489  1428 efficientnet_model.py:143] round_filter input=16 output=16\n",
      "I0913 14:19:37.672188  1428 efficientnet_model.py:143] round_filter input=16 output=16\n",
      "I0913 14:19:37.672188  1428 efficientnet_model.py:143] round_filter input=24 output=24\n",
      "I0913 14:19:37.973155  1428 efficientnet_model.py:143] round_filter input=24 output=24\n",
      "I0913 14:19:37.973155  1428 efficientnet_model.py:143] round_filter input=40 output=40\n",
      "I0913 14:19:38.274158  1428 efficientnet_model.py:143] round_filter input=40 output=40\n",
      "I0913 14:19:38.274158  1428 efficientnet_model.py:143] round_filter input=80 output=80\n",
      "I0913 14:19:38.668841  1428 efficientnet_model.py:143] round_filter input=80 output=80\n",
      "I0913 14:19:38.668841  1428 efficientnet_model.py:143] round_filter input=112 output=112\n",
      "I0913 14:19:39.076711  1428 efficientnet_model.py:143] round_filter input=112 output=112\n",
      "I0913 14:19:39.076711  1428 efficientnet_model.py:143] round_filter input=192 output=192\n",
      "I0913 14:19:39.625064  1428 efficientnet_model.py:143] round_filter input=192 output=192\n",
      "I0913 14:19:39.625064  1428 efficientnet_model.py:143] round_filter input=320 output=320\n",
      "I0913 14:19:39.879050  1428 efficientnet_model.py:143] round_filter input=1280 output=1280\n",
      "I0913 14:19:39.941570  1428 efficientnet_model.py:453] Building model efficientnet with params ModelConfig(width_coefficient=1.0, depth_coefficient=1.1, resolution=240, dropout_rate=0.2, blocks=(BlockConfig(input_filters=32, output_filters=16, kernel_size=3, num_repeat=1, expand_ratio=1, strides=(1, 1), se_ratio=0.25, id_skip=True, fused_conv=False, conv_type='depthwise'), BlockConfig(input_filters=16, output_filters=24, kernel_size=3, num_repeat=2, expand_ratio=6, strides=(2, 2), se_ratio=0.25, id_skip=True, fused_conv=False, conv_type='depthwise'), BlockConfig(input_filters=24, output_filters=40, kernel_size=5, num_repeat=2, expand_ratio=6, strides=(2, 2), se_ratio=0.25, id_skip=True, fused_conv=False, conv_type='depthwise'), BlockConfig(input_filters=40, output_filters=80, kernel_size=3, num_repeat=3, expand_ratio=6, strides=(2, 2), se_ratio=0.25, id_skip=True, fused_conv=False, conv_type='depthwise'), BlockConfig(input_filters=80, output_filters=112, kernel_size=5, num_repeat=3, expand_ratio=6, strides=(1, 1), se_ratio=0.25, id_skip=True, fused_conv=False, conv_type='depthwise'), BlockConfig(input_filters=112, output_filters=192, kernel_size=5, num_repeat=4, expand_ratio=6, strides=(2, 2), se_ratio=0.25, id_skip=True, fused_conv=False, conv_type='depthwise'), BlockConfig(input_filters=192, output_filters=320, kernel_size=3, num_repeat=1, expand_ratio=6, strides=(1, 1), se_ratio=0.25, id_skip=True, fused_conv=False, conv_type='depthwise')), stem_base_filters=32, top_base_filters=1280, activation='simple_swish', batch_norm='default', bn_momentum=0.99, bn_epsilon=0.001, weight_decay=5e-06, drop_connect_rate=0.2, depth_divisor=8, min_depth=None, use_se=True, input_channels=3, num_classes=1000, model_name='efficientnet', rescale_input=False, data_format='channels_last', dtype='float32')\n",
      "I0913 14:19:40.010618  1428 ssd_efficientnet_bifpn_feature_extractor.py:145] EfficientDet EfficientNet backbone version: efficientnet-b2\n",
      "I0913 14:19:40.010618  1428 ssd_efficientnet_bifpn_feature_extractor.py:147] EfficientDet BiFPN num filters: 112\n",
      "I0913 14:19:40.010618  1428 ssd_efficientnet_bifpn_feature_extractor.py:148] EfficientDet BiFPN num iterations: 5\n",
      "I0913 14:19:40.010618  1428 efficientnet_model.py:143] round_filter input=32 output=32\n",
      "I0913 14:19:40.041870  1428 efficientnet_model.py:143] round_filter input=32 output=32\n",
      "I0913 14:19:40.041870  1428 efficientnet_model.py:143] round_filter input=16 output=16\n",
      "I0913 14:19:40.195553  1428 efficientnet_model.py:143] round_filter input=16 output=16\n",
      "I0913 14:19:40.195553  1428 efficientnet_model.py:143] round_filter input=24 output=24\n",
      "I0913 14:19:40.480776  1428 efficientnet_model.py:143] round_filter input=24 output=24\n",
      "I0913 14:19:40.480776  1428 efficientnet_model.py:143] round_filter input=40 output=48\n",
      "I0913 14:19:40.797351  1428 efficientnet_model.py:143] round_filter input=40 output=48\n",
      "I0913 14:19:40.797351  1428 efficientnet_model.py:143] round_filter input=80 output=88\n",
      "I0913 14:19:41.214129  1428 efficientnet_model.py:143] round_filter input=80 output=88\n",
      "I0913 14:19:41.214129  1428 efficientnet_model.py:143] round_filter input=112 output=120\n",
      "I0913 14:19:41.762597  1428 efficientnet_model.py:143] round_filter input=112 output=120\n",
      "I0913 14:19:41.762597  1428 efficientnet_model.py:143] round_filter input=192 output=208\n",
      "I0913 14:19:42.348818  1428 efficientnet_model.py:143] round_filter input=192 output=208\n",
      "I0913 14:19:42.348818  1428 efficientnet_model.py:143] round_filter input=320 output=352\n",
      "I0913 14:19:42.618454  1428 efficientnet_model.py:143] round_filter input=1280 output=1408\n",
      "I0913 14:19:42.687461  1428 efficientnet_model.py:453] Building model efficientnet with params ModelConfig(width_coefficient=1.1, depth_coefficient=1.2, resolution=260, dropout_rate=0.3, blocks=(BlockConfig(input_filters=32, output_filters=16, kernel_size=3, num_repeat=1, expand_ratio=1, strides=(1, 1), se_ratio=0.25, id_skip=True, fused_conv=False, conv_type='depthwise'), BlockConfig(input_filters=16, output_filters=24, kernel_size=3, num_repeat=2, expand_ratio=6, strides=(2, 2), se_ratio=0.25, id_skip=True, fused_conv=False, conv_type='depthwise'), BlockConfig(input_filters=24, output_filters=40, kernel_size=5, num_repeat=2, expand_ratio=6, strides=(2, 2), se_ratio=0.25, id_skip=True, fused_conv=False, conv_type='depthwise'), BlockConfig(input_filters=40, output_filters=80, kernel_size=3, num_repeat=3, expand_ratio=6, strides=(2, 2), se_ratio=0.25, id_skip=True, fused_conv=False, conv_type='depthwise'), BlockConfig(input_filters=80, output_filters=112, kernel_size=5, num_repeat=3, expand_ratio=6, strides=(1, 1), se_ratio=0.25, id_skip=True, fused_conv=False, conv_type='depthwise'), BlockConfig(input_filters=112, output_filters=192, kernel_size=5, num_repeat=4, expand_ratio=6, strides=(2, 2), se_ratio=0.25, id_skip=True, fused_conv=False, conv_type='depthwise'), BlockConfig(input_filters=192, output_filters=320, kernel_size=3, num_repeat=1, expand_ratio=6, strides=(1, 1), se_ratio=0.25, id_skip=True, fused_conv=False, conv_type='depthwise')), stem_base_filters=32, top_base_filters=1280, activation='simple_swish', batch_norm='default', bn_momentum=0.99, bn_epsilon=0.001, weight_decay=5e-06, drop_connect_rate=0.2, depth_divisor=8, min_depth=None, use_se=True, input_channels=3, num_classes=1000, model_name='efficientnet', rescale_input=False, data_format='channels_last', dtype='float32')\n",
      "I0913 14:19:42.749974  1428 ssd_efficientnet_bifpn_feature_extractor.py:145] EfficientDet EfficientNet backbone version: efficientnet-b3\n",
      "I0913 14:19:42.749974  1428 ssd_efficientnet_bifpn_feature_extractor.py:147] EfficientDet BiFPN num filters: 160\n",
      "I0913 14:19:42.749974  1428 ssd_efficientnet_bifpn_feature_extractor.py:148] EfficientDet BiFPN num iterations: 6\n",
      "I0913 14:19:42.765599  1428 efficientnet_model.py:143] round_filter input=32 output=40\n",
      "I0913 14:19:42.787745  1428 efficientnet_model.py:143] round_filter input=32 output=40\n",
      "I0913 14:19:42.787745  1428 efficientnet_model.py:143] round_filter input=16 output=24\n",
      "I0913 14:19:42.950618  1428 efficientnet_model.py:143] round_filter input=16 output=24\n",
      "I0913 14:19:42.950618  1428 efficientnet_model.py:143] round_filter input=24 output=32\n",
      "I0913 14:19:43.267190  1428 efficientnet_model.py:143] round_filter input=24 output=32\n",
      "I0913 14:19:43.267190  1428 efficientnet_model.py:143] round_filter input=40 output=48\n",
      "I0913 14:19:43.552591  1428 efficientnet_model.py:143] round_filter input=40 output=48\n",
      "I0913 14:19:43.552591  1428 efficientnet_model.py:143] round_filter input=80 output=96\n",
      "I0913 14:19:44.091820  1428 efficientnet_model.py:143] round_filter input=80 output=96\n",
      "I0913 14:19:44.091820  1428 efficientnet_model.py:143] round_filter input=112 output=136\n",
      "I0913 14:19:44.624668  1428 efficientnet_model.py:143] round_filter input=112 output=136\n",
      "I0913 14:19:44.624668  1428 efficientnet_model.py:143] round_filter input=192 output=232\n",
      "I0913 14:19:45.342306  1428 efficientnet_model.py:143] round_filter input=192 output=232\n",
      "I0913 14:19:45.342306  1428 efficientnet_model.py:143] round_filter input=320 output=384\n",
      "I0913 14:19:45.627658  1428 efficientnet_model.py:143] round_filter input=1280 output=1536\n",
      "I0913 14:19:45.696643  1428 efficientnet_model.py:453] Building model efficientnet with params ModelConfig(width_coefficient=1.2, depth_coefficient=1.4, resolution=300, dropout_rate=0.3, blocks=(BlockConfig(input_filters=32, output_filters=16, kernel_size=3, num_repeat=1, expand_ratio=1, strides=(1, 1), se_ratio=0.25, id_skip=True, fused_conv=False, conv_type='depthwise'), BlockConfig(input_filters=16, output_filters=24, kernel_size=3, num_repeat=2, expand_ratio=6, strides=(2, 2), se_ratio=0.25, id_skip=True, fused_conv=False, conv_type='depthwise'), BlockConfig(input_filters=24, output_filters=40, kernel_size=5, num_repeat=2, expand_ratio=6, strides=(2, 2), se_ratio=0.25, id_skip=True, fused_conv=False, conv_type='depthwise'), BlockConfig(input_filters=40, output_filters=80, kernel_size=3, num_repeat=3, expand_ratio=6, strides=(2, 2), se_ratio=0.25, id_skip=True, fused_conv=False, conv_type='depthwise'), BlockConfig(input_filters=80, output_filters=112, kernel_size=5, num_repeat=3, expand_ratio=6, strides=(1, 1), se_ratio=0.25, id_skip=True, fused_conv=False, conv_type='depthwise'), BlockConfig(input_filters=112, output_filters=192, kernel_size=5, num_repeat=4, expand_ratio=6, strides=(2, 2), se_ratio=0.25, id_skip=True, fused_conv=False, conv_type='depthwise'), BlockConfig(input_filters=192, output_filters=320, kernel_size=3, num_repeat=1, expand_ratio=6, strides=(1, 1), se_ratio=0.25, id_skip=True, fused_conv=False, conv_type='depthwise')), stem_base_filters=32, top_base_filters=1280, activation='simple_swish', batch_norm='default', bn_momentum=0.99, bn_epsilon=0.001, weight_decay=5e-06, drop_connect_rate=0.2, depth_divisor=8, min_depth=None, use_se=True, input_channels=3, num_classes=1000, model_name='efficientnet', rescale_input=False, data_format='channels_last', dtype='float32')\n",
      "I0913 14:19:45.774785  1428 ssd_efficientnet_bifpn_feature_extractor.py:145] EfficientDet EfficientNet backbone version: efficientnet-b4\n",
      "I0913 14:19:45.774785  1428 ssd_efficientnet_bifpn_feature_extractor.py:147] EfficientDet BiFPN num filters: 224\n",
      "I0913 14:19:45.774785  1428 ssd_efficientnet_bifpn_feature_extractor.py:148] EfficientDet BiFPN num iterations: 7\n",
      "I0913 14:19:45.774785  1428 efficientnet_model.py:143] round_filter input=32 output=48\n",
      "I0913 14:19:45.796937  1428 efficientnet_model.py:143] round_filter input=32 output=48\n",
      "I0913 14:19:45.796937  1428 efficientnet_model.py:143] round_filter input=16 output=24\n",
      "I0913 14:19:45.959760  1428 efficientnet_model.py:143] round_filter input=16 output=24\n",
      "I0913 14:19:45.959760  1428 efficientnet_model.py:143] round_filter input=24 output=32\n",
      "I0913 14:19:46.360911  1428 efficientnet_model.py:143] round_filter input=24 output=32\n",
      "I0913 14:19:46.360911  1428 efficientnet_model.py:143] round_filter input=40 output=56\n",
      "I0913 14:19:46.762167  1428 efficientnet_model.py:143] round_filter input=40 output=56\n",
      "I0913 14:19:46.762167  1428 efficientnet_model.py:143] round_filter input=80 output=112\n",
      "I0913 14:19:47.401653  1428 efficientnet_model.py:143] round_filter input=80 output=112\n",
      "I0913 14:19:47.401653  1428 efficientnet_model.py:143] round_filter input=112 output=160\n",
      "I0913 14:19:48.050474  1428 efficientnet_model.py:143] round_filter input=112 output=160\n",
      "I0913 14:19:48.050474  1428 efficientnet_model.py:143] round_filter input=192 output=272\n",
      "I0913 14:19:49.222764  1428 efficientnet_model.py:143] round_filter input=192 output=272\n",
      "I0913 14:19:49.222764  1428 efficientnet_model.py:143] round_filter input=320 output=448\n",
      "I0913 14:19:49.539312  1428 efficientnet_model.py:143] round_filter input=1280 output=1792\n",
      "I0913 14:19:49.608313  1428 efficientnet_model.py:453] Building model efficientnet with params ModelConfig(width_coefficient=1.4, depth_coefficient=1.8, resolution=380, dropout_rate=0.4, blocks=(BlockConfig(input_filters=32, output_filters=16, kernel_size=3, num_repeat=1, expand_ratio=1, strides=(1, 1), se_ratio=0.25, id_skip=True, fused_conv=False, conv_type='depthwise'), BlockConfig(input_filters=16, output_filters=24, kernel_size=3, num_repeat=2, expand_ratio=6, strides=(2, 2), se_ratio=0.25, id_skip=True, fused_conv=False, conv_type='depthwise'), BlockConfig(input_filters=24, output_filters=40, kernel_size=5, num_repeat=2, expand_ratio=6, strides=(2, 2), se_ratio=0.25, id_skip=True, fused_conv=False, conv_type='depthwise'), BlockConfig(input_filters=40, output_filters=80, kernel_size=3, num_repeat=3, expand_ratio=6, strides=(2, 2), se_ratio=0.25, id_skip=True, fused_conv=False, conv_type='depthwise'), BlockConfig(input_filters=80, output_filters=112, kernel_size=5, num_repeat=3, expand_ratio=6, strides=(1, 1), se_ratio=0.25, id_skip=True, fused_conv=False, conv_type='depthwise'), BlockConfig(input_filters=112, output_filters=192, kernel_size=5, num_repeat=4, expand_ratio=6, strides=(2, 2), se_ratio=0.25, id_skip=True, fused_conv=False, conv_type='depthwise'), BlockConfig(input_filters=192, output_filters=320, kernel_size=3, num_repeat=1, expand_ratio=6, strides=(1, 1), se_ratio=0.25, id_skip=True, fused_conv=False, conv_type='depthwise')), stem_base_filters=32, top_base_filters=1280, activation='simple_swish', batch_norm='default', bn_momentum=0.99, bn_epsilon=0.001, weight_decay=5e-06, drop_connect_rate=0.2, depth_divisor=8, min_depth=None, use_se=True, input_channels=3, num_classes=1000, model_name='efficientnet', rescale_input=False, data_format='channels_last', dtype='float32')\n",
      "I0913 14:19:49.702119  1428 ssd_efficientnet_bifpn_feature_extractor.py:145] EfficientDet EfficientNet backbone version: efficientnet-b5\n",
      "I0913 14:19:49.702119  1428 ssd_efficientnet_bifpn_feature_extractor.py:147] EfficientDet BiFPN num filters: 288\n",
      "I0913 14:19:49.702119  1428 ssd_efficientnet_bifpn_feature_extractor.py:148] EfficientDet BiFPN num iterations: 7\n",
      "I0913 14:19:49.702119  1428 efficientnet_model.py:143] round_filter input=32 output=48\n",
      "I0913 14:19:49.724292  1428 efficientnet_model.py:143] round_filter input=32 output=48\n",
      "I0913 14:19:49.724292  1428 efficientnet_model.py:143] round_filter input=16 output=24\n",
      "I0913 14:19:49.956208  1428 efficientnet_model.py:143] round_filter input=16 output=24\n",
      "I0913 14:19:49.956208  1428 efficientnet_model.py:143] round_filter input=24 output=40\n",
      "I0913 14:19:50.442081  1428 efficientnet_model.py:143] round_filter input=24 output=40\n",
      "I0913 14:19:50.442081  1428 efficientnet_model.py:143] round_filter input=40 output=64\n",
      "I0913 14:19:50.959351  1428 efficientnet_model.py:143] round_filter input=40 output=64\n",
      "I0913 14:19:50.959351  1428 efficientnet_model.py:143] round_filter input=80 output=128\n",
      "I0913 14:19:51.714885  1428 efficientnet_model.py:143] round_filter input=80 output=128\n",
      "I0913 14:19:51.714885  1428 efficientnet_model.py:143] round_filter input=112 output=176\n",
      "I0913 14:19:52.510777  1428 efficientnet_model.py:143] round_filter input=112 output=176\n",
      "I0913 14:19:52.510777  1428 efficientnet_model.py:143] round_filter input=192 output=304\n",
      "I0913 14:19:53.682962  1428 efficientnet_model.py:143] round_filter input=192 output=304\n",
      "I0913 14:19:53.682962  1428 efficientnet_model.py:143] round_filter input=320 output=512\n",
      "I0913 14:19:54.222154  1428 efficientnet_model.py:143] round_filter input=1280 output=2048\n",
      "I0913 14:19:54.300292  1428 efficientnet_model.py:453] Building model efficientnet with params ModelConfig(width_coefficient=1.6, depth_coefficient=2.2, resolution=456, dropout_rate=0.4, blocks=(BlockConfig(input_filters=32, output_filters=16, kernel_size=3, num_repeat=1, expand_ratio=1, strides=(1, 1), se_ratio=0.25, id_skip=True, fused_conv=False, conv_type='depthwise'), BlockConfig(input_filters=16, output_filters=24, kernel_size=3, num_repeat=2, expand_ratio=6, strides=(2, 2), se_ratio=0.25, id_skip=True, fused_conv=False, conv_type='depthwise'), BlockConfig(input_filters=24, output_filters=40, kernel_size=5, num_repeat=2, expand_ratio=6, strides=(2, 2), se_ratio=0.25, id_skip=True, fused_conv=False, conv_type='depthwise'), BlockConfig(input_filters=40, output_filters=80, kernel_size=3, num_repeat=3, expand_ratio=6, strides=(2, 2), se_ratio=0.25, id_skip=True, fused_conv=False, conv_type='depthwise'), BlockConfig(input_filters=80, output_filters=112, kernel_size=5, num_repeat=3, expand_ratio=6, strides=(1, 1), se_ratio=0.25, id_skip=True, fused_conv=False, conv_type='depthwise'), BlockConfig(input_filters=112, output_filters=192, kernel_size=5, num_repeat=4, expand_ratio=6, strides=(2, 2), se_ratio=0.25, id_skip=True, fused_conv=False, conv_type='depthwise'), BlockConfig(input_filters=192, output_filters=320, kernel_size=3, num_repeat=1, expand_ratio=6, strides=(1, 1), se_ratio=0.25, id_skip=True, fused_conv=False, conv_type='depthwise')), stem_base_filters=32, top_base_filters=1280, activation='simple_swish', batch_norm='default', bn_momentum=0.99, bn_epsilon=0.001, weight_decay=5e-06, drop_connect_rate=0.2, depth_divisor=8, min_depth=None, use_se=True, input_channels=3, num_classes=1000, model_name='efficientnet', rescale_input=False, data_format='channels_last', dtype='float32')\n",
      "I0913 14:19:54.400570  1428 ssd_efficientnet_bifpn_feature_extractor.py:145] EfficientDet EfficientNet backbone version: efficientnet-b6\n",
      "I0913 14:19:54.400570  1428 ssd_efficientnet_bifpn_feature_extractor.py:147] EfficientDet BiFPN num filters: 384\n",
      "I0913 14:19:54.400570  1428 ssd_efficientnet_bifpn_feature_extractor.py:148] EfficientDet BiFPN num iterations: 8\n",
      "I0913 14:19:54.400570  1428 efficientnet_model.py:143] round_filter input=32 output=56\n",
      "I0913 14:19:54.422796  1428 efficientnet_model.py:143] round_filter input=32 output=56\n",
      "I0913 14:19:54.422796  1428 efficientnet_model.py:143] round_filter input=16 output=32\n",
      "I0913 14:19:54.670331  1428 efficientnet_model.py:143] round_filter input=16 output=32\n",
      "I0913 14:19:54.670331  1428 efficientnet_model.py:143] round_filter input=24 output=40\n",
      "I0913 14:19:55.272078  1428 efficientnet_model.py:143] round_filter input=24 output=40\n",
      "I0913 14:19:55.272078  1428 efficientnet_model.py:143] round_filter input=40 output=72\n",
      "I0913 14:19:55.889491  1428 efficientnet_model.py:143] round_filter input=40 output=72\n",
      "I0913 14:19:55.889491  1428 efficientnet_model.py:143] round_filter input=80 output=144\n",
      "I0913 14:19:56.760788  1428 efficientnet_model.py:143] round_filter input=80 output=144\n",
      "I0913 14:19:56.760788  1428 efficientnet_model.py:143] round_filter input=112 output=200\n",
      "I0913 14:19:57.863989  1428 efficientnet_model.py:143] round_filter input=112 output=200\n",
      "I0913 14:19:57.863989  1428 efficientnet_model.py:143] round_filter input=192 output=344\n",
      "I0913 14:19:59.399539  1428 efficientnet_model.py:143] round_filter input=192 output=344\n",
      "I0913 14:19:59.399539  1428 efficientnet_model.py:143] round_filter input=320 output=576\n",
      "I0913 14:19:59.969949  1428 efficientnet_model.py:143] round_filter input=1280 output=2304\n",
      "I0913 14:20:00.085856  1428 efficientnet_model.py:453] Building model efficientnet with params ModelConfig(width_coefficient=1.8, depth_coefficient=2.6, resolution=528, dropout_rate=0.5, blocks=(BlockConfig(input_filters=32, output_filters=16, kernel_size=3, num_repeat=1, expand_ratio=1, strides=(1, 1), se_ratio=0.25, id_skip=True, fused_conv=False, conv_type='depthwise'), BlockConfig(input_filters=16, output_filters=24, kernel_size=3, num_repeat=2, expand_ratio=6, strides=(2, 2), se_ratio=0.25, id_skip=True, fused_conv=False, conv_type='depthwise'), BlockConfig(input_filters=24, output_filters=40, kernel_size=5, num_repeat=2, expand_ratio=6, strides=(2, 2), se_ratio=0.25, id_skip=True, fused_conv=False, conv_type='depthwise'), BlockConfig(input_filters=40, output_filters=80, kernel_size=3, num_repeat=3, expand_ratio=6, strides=(2, 2), se_ratio=0.25, id_skip=True, fused_conv=False, conv_type='depthwise'), BlockConfig(input_filters=80, output_filters=112, kernel_size=5, num_repeat=3, expand_ratio=6, strides=(1, 1), se_ratio=0.25, id_skip=True, fused_conv=False, conv_type='depthwise'), BlockConfig(input_filters=112, output_filters=192, kernel_size=5, num_repeat=4, expand_ratio=6, strides=(2, 2), se_ratio=0.25, id_skip=True, fused_conv=False, conv_type='depthwise'), BlockConfig(input_filters=192, output_filters=320, kernel_size=3, num_repeat=1, expand_ratio=6, strides=(1, 1), se_ratio=0.25, id_skip=True, fused_conv=False, conv_type='depthwise')), stem_base_filters=32, top_base_filters=1280, activation='simple_swish', batch_norm='default', bn_momentum=0.99, bn_epsilon=0.001, weight_decay=5e-06, drop_connect_rate=0.2, depth_divisor=8, min_depth=None, use_se=True, input_channels=3, num_classes=1000, model_name='efficientnet', rescale_input=False, data_format='channels_last', dtype='float32')\n",
      "I0913 14:20:00.201762  1428 ssd_efficientnet_bifpn_feature_extractor.py:145] EfficientDet EfficientNet backbone version: efficientnet-b7\n",
      "I0913 14:20:00.201762  1428 ssd_efficientnet_bifpn_feature_extractor.py:147] EfficientDet BiFPN num filters: 384\n",
      "I0913 14:20:00.201762  1428 ssd_efficientnet_bifpn_feature_extractor.py:148] EfficientDet BiFPN num iterations: 8\n",
      "I0913 14:20:00.201762  1428 efficientnet_model.py:143] round_filter input=32 output=64\n",
      "I0913 14:20:00.233046  1428 efficientnet_model.py:143] round_filter input=32 output=64\n",
      "I0913 14:20:00.233046  1428 efficientnet_model.py:143] round_filter input=16 output=32\n",
      "I0913 14:20:00.555373  1428 efficientnet_model.py:143] round_filter input=16 output=32\n",
      "I0913 14:20:00.555373  1428 efficientnet_model.py:143] round_filter input=24 output=48\n",
      "I0913 14:20:01.274022  1428 efficientnet_model.py:143] round_filter input=24 output=48\n",
      "I0913 14:20:01.274022  1428 efficientnet_model.py:143] round_filter input=40 output=80\n",
      "I0913 14:20:01.976144  1428 efficientnet_model.py:143] round_filter input=40 output=80\n",
      "I0913 14:20:01.976144  1428 efficientnet_model.py:143] round_filter input=80 output=160\n",
      "I0913 14:20:03.063757  1428 efficientnet_model.py:143] round_filter input=80 output=160\n",
      "I0913 14:20:03.063757  1428 efficientnet_model.py:143] round_filter input=112 output=224\n",
      "I0913 14:20:04.251773  1428 efficientnet_model.py:143] round_filter input=112 output=224\n",
      "I0913 14:20:04.251773  1428 efficientnet_model.py:143] round_filter input=192 output=384\n",
      "I0913 14:20:06.172904  1428 efficientnet_model.py:143] round_filter input=192 output=384\n",
      "I0913 14:20:06.172904  1428 efficientnet_model.py:143] round_filter input=320 output=640\n",
      "I0913 14:20:07.238299  1428 efficientnet_model.py:143] round_filter input=1280 output=2560\n",
      "I0913 14:20:07.345097  1428 efficientnet_model.py:453] Building model efficientnet with params ModelConfig(width_coefficient=2.0, depth_coefficient=3.1, resolution=600, dropout_rate=0.5, blocks=(BlockConfig(input_filters=32, output_filters=16, kernel_size=3, num_repeat=1, expand_ratio=1, strides=(1, 1), se_ratio=0.25, id_skip=True, fused_conv=False, conv_type='depthwise'), BlockConfig(input_filters=16, output_filters=24, kernel_size=3, num_repeat=2, expand_ratio=6, strides=(2, 2), se_ratio=0.25, id_skip=True, fused_conv=False, conv_type='depthwise'), BlockConfig(input_filters=24, output_filters=40, kernel_size=5, num_repeat=2, expand_ratio=6, strides=(2, 2), se_ratio=0.25, id_skip=True, fused_conv=False, conv_type='depthwise'), BlockConfig(input_filters=40, output_filters=80, kernel_size=3, num_repeat=3, expand_ratio=6, strides=(2, 2), se_ratio=0.25, id_skip=True, fused_conv=False, conv_type='depthwise'), BlockConfig(input_filters=80, output_filters=112, kernel_size=5, num_repeat=3, expand_ratio=6, strides=(1, 1), se_ratio=0.25, id_skip=True, fused_conv=False, conv_type='depthwise'), BlockConfig(input_filters=112, output_filters=192, kernel_size=5, num_repeat=4, expand_ratio=6, strides=(2, 2), se_ratio=0.25, id_skip=True, fused_conv=False, conv_type='depthwise'), BlockConfig(input_filters=192, output_filters=320, kernel_size=3, num_repeat=1, expand_ratio=6, strides=(1, 1), se_ratio=0.25, id_skip=True, fused_conv=False, conv_type='depthwise')), stem_base_filters=32, top_base_filters=1280, activation='simple_swish', batch_norm='default', bn_momentum=0.99, bn_epsilon=0.001, weight_decay=5e-06, drop_connect_rate=0.2, depth_divisor=8, min_depth=None, use_se=True, input_channels=3, num_classes=1000, model_name='efficientnet', rescale_input=False, data_format='channels_last', dtype='float32')\n",
      "INFO:tensorflow:time(__main__.ModelBuilderTF2Test.test_create_ssd_models_from_config): 32.18s\n",
      "I0913 14:20:07.476653  1428 test_util.py:2460] time(__main__.ModelBuilderTF2Test.test_create_ssd_models_from_config): 32.18s\n",
      "[       OK ] ModelBuilderTF2Test.test_create_ssd_models_from_config\n",
      "[ RUN      ] ModelBuilderTF2Test.test_invalid_faster_rcnn_batchnorm_update\n",
      "INFO:tensorflow:time(__main__.ModelBuilderTF2Test.test_invalid_faster_rcnn_batchnorm_update): 0.0s\n",
      "I0913 14:20:07.492268  1428 test_util.py:2460] time(__main__.ModelBuilderTF2Test.test_invalid_faster_rcnn_batchnorm_update): 0.0s\n",
      "[       OK ] ModelBuilderTF2Test.test_invalid_faster_rcnn_batchnorm_update\n",
      "[ RUN      ] ModelBuilderTF2Test.test_invalid_first_stage_nms_iou_threshold\n",
      "INFO:tensorflow:time(__main__.ModelBuilderTF2Test.test_invalid_first_stage_nms_iou_threshold): 0.0s\n",
      "I0913 14:20:07.492268  1428 test_util.py:2460] time(__main__.ModelBuilderTF2Test.test_invalid_first_stage_nms_iou_threshold): 0.0s\n",
      "[       OK ] ModelBuilderTF2Test.test_invalid_first_stage_nms_iou_threshold\n",
      "[ RUN      ] ModelBuilderTF2Test.test_invalid_model_config_proto\n",
      "INFO:tensorflow:time(__main__.ModelBuilderTF2Test.test_invalid_model_config_proto): 0.0s\n",
      "I0913 14:20:07.492268  1428 test_util.py:2460] time(__main__.ModelBuilderTF2Test.test_invalid_model_config_proto): 0.0s\n",
      "[       OK ] ModelBuilderTF2Test.test_invalid_model_config_proto\n",
      "[ RUN      ] ModelBuilderTF2Test.test_invalid_second_stage_batch_size\n",
      "INFO:tensorflow:time(__main__.ModelBuilderTF2Test.test_invalid_second_stage_batch_size): 0.02s\n",
      "I0913 14:20:07.507893  1428 test_util.py:2460] time(__main__.ModelBuilderTF2Test.test_invalid_second_stage_batch_size): 0.02s\n",
      "[       OK ] ModelBuilderTF2Test.test_invalid_second_stage_batch_size\n",
      "[ RUN      ] ModelBuilderTF2Test.test_session\n",
      "[  SKIPPED ] ModelBuilderTF2Test.test_session\n",
      "[ RUN      ] ModelBuilderTF2Test.test_unknown_faster_rcnn_feature_extractor\n",
      "INFO:tensorflow:time(__main__.ModelBuilderTF2Test.test_unknown_faster_rcnn_feature_extractor): 0.0s\n",
      "I0913 14:20:07.507893  1428 test_util.py:2460] time(__main__.ModelBuilderTF2Test.test_unknown_faster_rcnn_feature_extractor): 0.0s\n",
      "[       OK ] ModelBuilderTF2Test.test_unknown_faster_rcnn_feature_extractor\n",
      "[ RUN      ] ModelBuilderTF2Test.test_unknown_meta_architecture\n",
      "INFO:tensorflow:time(__main__.ModelBuilderTF2Test.test_unknown_meta_architecture): 0.0s\n",
      "I0913 14:20:07.507893  1428 test_util.py:2460] time(__main__.ModelBuilderTF2Test.test_unknown_meta_architecture): 0.0s\n",
      "[       OK ] ModelBuilderTF2Test.test_unknown_meta_architecture\n",
      "[ RUN      ] ModelBuilderTF2Test.test_unknown_ssd_feature_extractor\n",
      "INFO:tensorflow:time(__main__.ModelBuilderTF2Test.test_unknown_ssd_feature_extractor): 0.0s\n",
      "I0913 14:20:07.507893  1428 test_util.py:2460] time(__main__.ModelBuilderTF2Test.test_unknown_ssd_feature_extractor): 0.0s\n",
      "[       OK ] ModelBuilderTF2Test.test_unknown_ssd_feature_extractor\n",
      "----------------------------------------------------------------------\n",
      "Ran 24 tests in 38.117s\n",
      "\n",
      "OK (skipped=1)\n"
     ]
    }
   ],
   "source": [
    "verificationScriptPath = os.path.join(paths['apiModelPath'], 'research', 'object_detection', 'builders', 'model_builder_tf2_test.py')\n",
    "!python {verificationScriptPath}"
   ]
  },
  {
   "cell_type": "code",
   "execution_count": 7,
   "id": "f7c34be1",
   "metadata": {},
   "outputs": [],
   "source": [
    "import object_detection"
   ]
  },
  {
   "cell_type": "code",
   "execution_count": null,
   "id": "05448f65",
   "metadata": {},
   "outputs": [],
   "source": [
    "wget.download(pretrainedModelUrl)\n",
    "!move {pretrainedModelName+'.tar.gz'} {paths['pretrainedModelPath']}\n",
    "!cd {paths['pretrainedModelPath']} && tar -zxvf {pretrainedModelName+'.tar.gz'}"
   ]
  },
  {
   "cell_type": "code",
   "execution_count": 8,
   "id": "439abac3",
   "metadata": {},
   "outputs": [],
   "source": [
    "labels = [{'name':'card', 'id':1}]\n",
    "\n",
    "with open(files['labelMap'], 'w') as f:\n",
    "    for label in labels:\n",
    "        f.write('item { \\n')\n",
    "        f.write('\\tname:\\'{}\\'\\n'.format(label['name']))\n",
    "        f.write('\\tid:{}\\n'.format(label['id']))\n",
    "        f.write('}\\n')"
   ]
  },
  {
   "cell_type": "code",
   "execution_count": 9,
   "id": "9db6ee81",
   "metadata": {},
   "outputs": [],
   "source": [
    "if not os.path.exists(files['tfRecordScript']):\n",
    "    !git clone https://github.com/nicknochnack/GenerateTFRecord {paths['scriptsPath']}"
   ]
  },
  {
   "cell_type": "code",
   "execution_count": 10,
   "id": "e099ff48",
   "metadata": {},
   "outputs": [
    {
     "name": "stdout",
     "output_type": "stream",
     "text": [
      "Successfully created the TFRecord file: tf_localization\\workspace\\annotations\\train.record\n",
      "Successfully created the TFRecord file: tf_localization\\workspace\\annotations\\test.record\n"
     ]
    }
   ],
   "source": [
    "!python {files['tfRecordScript']} -x {os.path.join(paths['imagePath'], 'train')} -l {files['labelMap']} -o {os.path.join(paths['annotationPath'], 'train.record')} \n",
    "!python {files['tfRecordScript']} -x {os.path.join(paths['imagePath'], 'test')} -l {files['labelMap']} -o {os.path.join(paths['annotationPath'], 'test.record')} "
   ]
  },
  {
   "cell_type": "code",
   "execution_count": 11,
   "id": "63a968a3",
   "metadata": {},
   "outputs": [
    {
     "name": "stdout",
     "output_type": "stream",
     "text": [
      "        1 file(s) copied.\n"
     ]
    }
   ],
   "source": [
    "!copy {os.path.join(paths['pretrainedModelPath'], pretrainedModelName, 'pipeline.config')} {os.path.join(paths['checkpointPath'])}"
   ]
  },
  {
   "cell_type": "code",
   "execution_count": 12,
   "id": "34b87a16",
   "metadata": {},
   "outputs": [],
   "source": [
    "import tensorflow as tf\n",
    "from object_detection.utils import config_util\n",
    "from object_detection.protos import pipeline_pb2\n",
    "from google.protobuf import text_format"
   ]
  },
  {
   "cell_type": "code",
   "execution_count": 13,
   "id": "b4403a50",
   "metadata": {},
   "outputs": [],
   "source": [
    "config = config_util.get_configs_from_pipeline_file(files['pipelineConfig'])"
   ]
  },
  {
   "cell_type": "code",
   "execution_count": 14,
   "id": "0eb73d41",
   "metadata": {
    "scrolled": true
   },
   "outputs": [
    {
     "data": {
      "text/plain": [
       "{'model': ssd {\n",
       "   num_classes: 90\n",
       "   image_resizer {\n",
       "     fixed_shape_resizer {\n",
       "       height: 320\n",
       "       width: 320\n",
       "     }\n",
       "   }\n",
       "   feature_extractor {\n",
       "     type: \"ssd_mobilenet_v2_fpn_keras\"\n",
       "     depth_multiplier: 1.0\n",
       "     min_depth: 16\n",
       "     conv_hyperparams {\n",
       "       regularizer {\n",
       "         l2_regularizer {\n",
       "           weight: 3.9999998989515007e-05\n",
       "         }\n",
       "       }\n",
       "       initializer {\n",
       "         random_normal_initializer {\n",
       "           mean: 0.0\n",
       "           stddev: 0.009999999776482582\n",
       "         }\n",
       "       }\n",
       "       activation: RELU_6\n",
       "       batch_norm {\n",
       "         decay: 0.996999979019165\n",
       "         scale: true\n",
       "         epsilon: 0.0010000000474974513\n",
       "       }\n",
       "     }\n",
       "     use_depthwise: true\n",
       "     override_base_feature_extractor_hyperparams: true\n",
       "     fpn {\n",
       "       min_level: 3\n",
       "       max_level: 7\n",
       "       additional_layer_depth: 128\n",
       "     }\n",
       "   }\n",
       "   box_coder {\n",
       "     faster_rcnn_box_coder {\n",
       "       y_scale: 10.0\n",
       "       x_scale: 10.0\n",
       "       height_scale: 5.0\n",
       "       width_scale: 5.0\n",
       "     }\n",
       "   }\n",
       "   matcher {\n",
       "     argmax_matcher {\n",
       "       matched_threshold: 0.5\n",
       "       unmatched_threshold: 0.5\n",
       "       ignore_thresholds: false\n",
       "       negatives_lower_than_unmatched: true\n",
       "       force_match_for_each_row: true\n",
       "       use_matmul_gather: true\n",
       "     }\n",
       "   }\n",
       "   similarity_calculator {\n",
       "     iou_similarity {\n",
       "     }\n",
       "   }\n",
       "   box_predictor {\n",
       "     weight_shared_convolutional_box_predictor {\n",
       "       conv_hyperparams {\n",
       "         regularizer {\n",
       "           l2_regularizer {\n",
       "             weight: 3.9999998989515007e-05\n",
       "           }\n",
       "         }\n",
       "         initializer {\n",
       "           random_normal_initializer {\n",
       "             mean: 0.0\n",
       "             stddev: 0.009999999776482582\n",
       "           }\n",
       "         }\n",
       "         activation: RELU_6\n",
       "         batch_norm {\n",
       "           decay: 0.996999979019165\n",
       "           scale: true\n",
       "           epsilon: 0.0010000000474974513\n",
       "         }\n",
       "       }\n",
       "       depth: 128\n",
       "       num_layers_before_predictor: 4\n",
       "       kernel_size: 3\n",
       "       class_prediction_bias_init: -4.599999904632568\n",
       "       share_prediction_tower: true\n",
       "       use_depthwise: true\n",
       "     }\n",
       "   }\n",
       "   anchor_generator {\n",
       "     multiscale_anchor_generator {\n",
       "       min_level: 3\n",
       "       max_level: 7\n",
       "       anchor_scale: 4.0\n",
       "       aspect_ratios: 1.0\n",
       "       aspect_ratios: 2.0\n",
       "       aspect_ratios: 0.5\n",
       "       scales_per_octave: 2\n",
       "     }\n",
       "   }\n",
       "   post_processing {\n",
       "     batch_non_max_suppression {\n",
       "       score_threshold: 9.99999993922529e-09\n",
       "       iou_threshold: 0.6000000238418579\n",
       "       max_detections_per_class: 100\n",
       "       max_total_detections: 100\n",
       "       use_static_shapes: false\n",
       "     }\n",
       "     score_converter: SIGMOID\n",
       "   }\n",
       "   normalize_loss_by_num_matches: true\n",
       "   loss {\n",
       "     localization_loss {\n",
       "       weighted_smooth_l1 {\n",
       "       }\n",
       "     }\n",
       "     classification_loss {\n",
       "       weighted_sigmoid_focal {\n",
       "         gamma: 2.0\n",
       "         alpha: 0.25\n",
       "       }\n",
       "     }\n",
       "     classification_weight: 1.0\n",
       "     localization_weight: 1.0\n",
       "   }\n",
       "   encode_background_as_zeros: true\n",
       "   normalize_loc_loss_by_codesize: true\n",
       "   inplace_batchnorm_update: true\n",
       "   freeze_batchnorm: false\n",
       " },\n",
       " 'train_config': batch_size: 128\n",
       " data_augmentation_options {\n",
       "   random_horizontal_flip {\n",
       "   }\n",
       " }\n",
       " data_augmentation_options {\n",
       "   random_crop_image {\n",
       "     min_object_covered: 0.0\n",
       "     min_aspect_ratio: 0.75\n",
       "     max_aspect_ratio: 3.0\n",
       "     min_area: 0.75\n",
       "     max_area: 1.0\n",
       "     overlap_thresh: 0.0\n",
       "   }\n",
       " }\n",
       " sync_replicas: true\n",
       " optimizer {\n",
       "   momentum_optimizer {\n",
       "     learning_rate {\n",
       "       cosine_decay_learning_rate {\n",
       "         learning_rate_base: 0.07999999821186066\n",
       "         total_steps: 50000\n",
       "         warmup_learning_rate: 0.026666000485420227\n",
       "         warmup_steps: 1000\n",
       "       }\n",
       "     }\n",
       "     momentum_optimizer_value: 0.8999999761581421\n",
       "   }\n",
       "   use_moving_average: false\n",
       " }\n",
       " fine_tune_checkpoint: \"PATH_TO_BE_CONFIGURED\"\n",
       " num_steps: 50000\n",
       " startup_delay_steps: 0.0\n",
       " replicas_to_aggregate: 8\n",
       " max_number_of_boxes: 100\n",
       " unpad_groundtruth_tensors: false\n",
       " fine_tune_checkpoint_type: \"classification\"\n",
       " fine_tune_checkpoint_version: V2,\n",
       " 'train_input_config': label_map_path: \"PATH_TO_BE_CONFIGURED\"\n",
       " tf_record_input_reader {\n",
       "   input_path: \"PATH_TO_BE_CONFIGURED\"\n",
       " },\n",
       " 'eval_config': metrics_set: \"coco_detection_metrics\"\n",
       " use_moving_averages: false,\n",
       " 'eval_input_configs': [label_map_path: \"PATH_TO_BE_CONFIGURED\"\n",
       " shuffle: false\n",
       " num_epochs: 1\n",
       " tf_record_input_reader {\n",
       "   input_path: \"PATH_TO_BE_CONFIGURED\"\n",
       " }\n",
       " ],\n",
       " 'eval_input_config': label_map_path: \"PATH_TO_BE_CONFIGURED\"\n",
       " shuffle: false\n",
       " num_epochs: 1\n",
       " tf_record_input_reader {\n",
       "   input_path: \"PATH_TO_BE_CONFIGURED\"\n",
       " }}"
      ]
     },
     "execution_count": 14,
     "metadata": {},
     "output_type": "execute_result"
    }
   ],
   "source": [
    "config"
   ]
  },
  {
   "cell_type": "code",
   "execution_count": 15,
   "id": "113dbb57",
   "metadata": {},
   "outputs": [],
   "source": [
    "pipeline_config = pipeline_pb2.TrainEvalPipelineConfig()\n",
    "with tf.io.gfile.GFile(files['pipelineConfig'], \"r\") as f:                                                                                                                                                                                                                     \n",
    "    proto_str = f.read()                                                                                                                                                                                                                                          \n",
    "    text_format.Merge(proto_str, pipeline_config) "
   ]
  },
  {
   "cell_type": "code",
   "execution_count": 16,
   "id": "c0ac5532",
   "metadata": {},
   "outputs": [],
   "source": [
    "pipeline_config.model.ssd.num_classes = len(labels)\n",
    "pipeline_config.train_config.batch_size = 4\n",
    "pipeline_config.train_config.fine_tune_checkpoint = os.path.join(paths['pretrainedModelPath'], pretrainedModelName, 'checkpoint', 'ckpt-0')\n",
    "pipeline_config.train_config.fine_tune_checkpoint_type = \"detection\"\n",
    "pipeline_config.train_input_reader.label_map_path= files['labelMap']\n",
    "pipeline_config.train_input_reader.tf_record_input_reader.input_path[:] = [os.path.join(paths['annotationPath'], 'train.record')]\n",
    "pipeline_config.eval_input_reader[0].label_map_path = files['labelMap']\n",
    "pipeline_config.eval_input_reader[0].tf_record_input_reader.input_path[:] = [os.path.join(paths['annotationPath'], 'test.record')]"
   ]
  },
  {
   "cell_type": "code",
   "execution_count": 17,
   "id": "1e955610",
   "metadata": {},
   "outputs": [],
   "source": [
    "config_text = text_format.MessageToString(pipeline_config)                                                                                                                                                                                                        \n",
    "with tf.io.gfile.GFile(files['pipelineConfig'], \"wb\") as f:                                                                                                                                                                                                                     \n",
    "    f.write(config_text) "
   ]
  },
  {
   "cell_type": "code",
   "execution_count": 18,
   "id": "5251d332",
   "metadata": {},
   "outputs": [],
   "source": [
    "trainingScript = os.path.join(paths['apiModelPath'], 'research', 'object_detection', 'model_main_tf2.py')"
   ]
  },
  {
   "cell_type": "code",
   "execution_count": 19,
   "id": "e0321c3a",
   "metadata": {},
   "outputs": [],
   "source": [
    "command = \"python {} --model_dir={} --pipeline_config_path={} --num_train_steps=2000\".format(trainingScript, paths['checkpointPath'],files['pipelineConfig'])"
   ]
  },
  {
   "cell_type": "code",
   "execution_count": 20,
   "id": "4c123e86",
   "metadata": {},
   "outputs": [
    {
     "name": "stdout",
     "output_type": "stream",
     "text": [
      "python tf_localization\\models\\research\\object_detection\\model_main_tf2.py --model_dir=tf_localization\\workspace\\models\\card_localization --pipeline_config_path=tf_localization\\workspace\\models\\card_localization\\pipeline.config --num_train_steps=2000\n"
     ]
    }
   ],
   "source": [
    "print(command)"
   ]
  },
  {
   "cell_type": "code",
   "execution_count": 24,
   "id": "bf309460",
   "metadata": {},
   "outputs": [],
   "source": [
    "command = \"python {} --model_dir={} --pipeline_config_path={} --checkpoint_dir={}\".format(trainingScript, paths['checkpointPath'],files['pipelineConfig'], paths['checkpointPath'])"
   ]
  },
  {
   "cell_type": "code",
   "execution_count": 25,
   "id": "452649fd",
   "metadata": {
    "scrolled": true
   },
   "outputs": [
    {
     "name": "stdout",
     "output_type": "stream",
     "text": [
      "python tf_localization\\models\\research\\object_detection\\model_main_tf2.py --model_dir=tf_localization\\workspace\\models\\card_localization --pipeline_config_path=tf_localization\\workspace\\models\\card_localization\\pipeline.config --checkpoint_dir=tf_localization\\workspace\\models\\card_localization\n"
     ]
    }
   ],
   "source": [
    "print(command)"
   ]
  },
  {
   "cell_type": "code",
   "execution_count": 37,
   "id": "f7bfa949",
   "metadata": {},
   "outputs": [],
   "source": [
    "exportScript = os.path.join(paths['apiModelPath'], 'research', 'object_detection', 'exporter_main_v2.py ')"
   ]
  },
  {
   "cell_type": "code",
   "execution_count": 38,
   "id": "91583fe9",
   "metadata": {},
   "outputs": [],
   "source": [
    "command = \"python {} --input_type=image_tensor --pipeline_config_path={} --trained_checkpoint_dir={} --output_directory={}\".format(exportScript ,files['pipelineConfig'], paths['checkpointPath'], paths['outputPath'])"
   ]
  },
  {
   "cell_type": "code",
   "execution_count": 39,
   "id": "fcff72fc",
   "metadata": {},
   "outputs": [
    {
     "name": "stdout",
     "output_type": "stream",
     "text": [
      "python tf_localization\\models\\research\\object_detection\\exporter_main_v2.py  --input_type=image_tensor --pipeline_config_path=tf_localization\\workspace\\models\\card_localization\\pipeline.config --trained_checkpoint_dir=tf_localization\\workspace\\models\\card_localization --output_directory=tf_localization\\workspace\\models\\card_localization\\export\n"
     ]
    }
   ],
   "source": [
    "print(command)"
   ]
  },
  {
   "cell_type": "code",
   "execution_count": 40,
   "id": "8d34063c",
   "metadata": {},
   "outputs": [],
   "source": [
    "tfLiteScript = os.path.join(paths['apiModelPath'], 'research', 'object_detection', 'export_tflite_graph_tf2.py ')"
   ]
  },
  {
   "cell_type": "code",
   "execution_count": 41,
   "id": "198bb94c",
   "metadata": {},
   "outputs": [],
   "source": [
    "command = \"python {} --pipeline_config_path={} --trained_checkpoint_dir={} --output_directory={}\".format(tfLiteScript ,files['pipelineConfig'], paths['checkpointPath'], paths['tfLitePath'])"
   ]
  },
  {
   "cell_type": "code",
   "execution_count": 42,
   "id": "2bc86b1b",
   "metadata": {
    "scrolled": true
   },
   "outputs": [
    {
     "name": "stdout",
     "output_type": "stream",
     "text": [
      "python tf_localization\\models\\research\\object_detection\\export_tflite_graph_tf2.py  --pipeline_config_path=tf_localization\\workspace\\models\\card_localization\\pipeline.config --trained_checkpoint_dir=tf_localization\\workspace\\models\\card_localization --output_directory=tf_localization\\workspace\\models\\card_localization\\tfliteexport\n"
     ]
    }
   ],
   "source": [
    "print(command)"
   ]
  },
  {
   "cell_type": "code",
   "execution_count": 3,
   "id": "d7847189",
   "metadata": {},
   "outputs": [],
   "source": [
    "tfLiteFolderPath = os.path.join(paths['tfLitePath'], 'saved_model')\n",
    "tfLiteModelPath = os.path.join(paths['tfLitePath'], 'saved_model', 'detect.tflite')"
   ]
  },
  {
   "cell_type": "code",
   "execution_count": 4,
   "id": "1edd799a",
   "metadata": {},
   "outputs": [],
   "source": [
    "command = \"tflite_convert \\\n",
    "--saved_model_dir={} \\\n",
    "--output_file={} \\\n",
    "--input_shapes=1,300,300,3 \\\n",
    "--input_arrays=normalized_input_image_tensor \\\n",
    "--output_arrays='TFLite_Detection_PostProcess','TFLite_Detection_PostProcess:1','TFLite_Detection_PostProcess:2','TFLite_Detection_PostProcess:3' \\\n",
    "--inference_type=FLOAT \\\n",
    "--allow_custom_ops\".format(tfLiteFolderPath, tfLiteModelPath, )"
   ]
  },
  {
   "cell_type": "code",
   "execution_count": 5,
   "id": "f024cd07",
   "metadata": {
    "scrolled": true
   },
   "outputs": [
    {
     "name": "stdout",
     "output_type": "stream",
     "text": [
      "tflite_convert --saved_model_dir=tf_localization\\workspace\\models\\card_localization\\tfliteexport\\saved_model --output_file=tf_localization\\workspace\\models\\card_localization\\tfliteexport\\saved_model\\detect.tflite --input_shapes=1,300,300,3 --input_arrays=normalized_input_image_tensor --output_arrays='TFLite_Detection_PostProcess','TFLite_Detection_PostProcess:1','TFLite_Detection_PostProcess:2','TFLite_Detection_PostProcess:3' --inference_type=FLOAT --allow_custom_ops\n"
     ]
    }
   ],
   "source": [
    "print(command)"
   ]
  },
  {
   "cell_type": "code",
   "execution_count": 3,
   "id": "917006dd",
   "metadata": {},
   "outputs": [
    {
     "name": "stdout",
     "output_type": "stream",
     "text": [
      "Collecting tflite-support\n",
      "  Downloading tflite_support-0.4.2-cp39-cp39-win_amd64.whl (454 kB)\n",
      "     -------------------------------------- 454.0/454.0 kB 1.3 MB/s eta 0:00:00\n",
      "Requirement already satisfied: absl-py>=0.7.0 in d:\\conda_envs\\jugio\\lib\\site-packages\\absl_py-1.2.0-py3.9.egg (from tflite-support) (1.2.0)\n",
      "Collecting pybind11>=2.6.0\n",
      "  Downloading pybind11-2.10.0-py3-none-any.whl (213 kB)\n",
      "     -------------------------------------- 213.3/213.3 kB 1.5 MB/s eta 0:00:00\n",
      "Requirement already satisfied: flatbuffers>=2.0 in d:\\conda_envs\\jugio\\lib\\site-packages (from tflite-support) (2.0.7)\n",
      "Requirement already satisfied: protobuf<4,>=3.18.0 in d:\\conda_envs\\jugio\\lib\\site-packages (from tflite-support) (3.19.4)\n",
      "Collecting sounddevice>=0.4.4\n",
      "  Downloading sounddevice-0.4.5-py3-none-win_amd64.whl (195 kB)\n",
      "     -------------------------------------- 195.9/195.9 kB 1.3 MB/s eta 0:00:00\n",
      "Requirement already satisfied: numpy>=1.20.0 in d:\\conda_envs\\jugio\\lib\\site-packages (from tflite-support) (1.23.3)\n",
      "Requirement already satisfied: CFFI>=1.0 in d:\\conda_envs\\jugio\\lib\\site-packages (from sounddevice>=0.4.4->tflite-support) (1.15.1)\n",
      "Requirement already satisfied: pycparser in d:\\conda_envs\\jugio\\lib\\site-packages (from CFFI>=1.0->sounddevice>=0.4.4->tflite-support) (2.21)\n",
      "Installing collected packages: pybind11, sounddevice, tflite-support\n",
      "Successfully installed pybind11-2.10.0 sounddevice-0.4.5 tflite-support-0.4.2\n"
     ]
    }
   ],
   "source": [
    "!pip install tflite-support"
   ]
  },
  {
   "cell_type": "code",
   "execution_count": 4,
   "id": "ac98cc3e",
   "metadata": {},
   "outputs": [],
   "source": [
    "from tflite_support.metadata_writers import object_detector\n",
    "from tflite_support.metadata_writers import writer_utils"
   ]
  },
  {
   "cell_type": "code",
   "execution_count": 5,
   "id": "aea7ad94",
   "metadata": {},
   "outputs": [
    {
     "name": "stdout",
     "output_type": "stream",
     "text": [
      "{\n",
      "  \"name\": \"ObjectDetector\",\n",
      "  \"description\": \"Identify which of a known set of objects might be present and provide information about their positions within the given image or a video stream.\",\n",
      "  \"subgraph_metadata\": [\n",
      "    {\n",
      "      \"input_tensor_metadata\": [\n",
      "        {\n",
      "          \"name\": \"image\",\n",
      "          \"description\": \"Input image to be detected.\",\n",
      "          \"content\": {\n",
      "            \"content_properties_type\": \"ImageProperties\",\n",
      "            \"content_properties\": {\n",
      "              \"color_space\": \"RGB\"\n",
      "            }\n",
      "          },\n",
      "          \"process_units\": [\n",
      "            {\n",
      "              \"options_type\": \"NormalizationOptions\",\n",
      "              \"options\": {\n",
      "                \"mean\": [\n",
      "                  127.5\n",
      "                ],\n",
      "                \"std\": [\n",
      "                  127.5\n",
      "                ]\n",
      "              }\n",
      "            }\n",
      "          ],\n",
      "          \"stats\": {\n",
      "            \"max\": [\n",
      "              1.0\n",
      "            ],\n",
      "            \"min\": [\n",
      "              -1.0\n",
      "            ]\n",
      "          }\n",
      "        }\n",
      "      ],\n",
      "      \"output_tensor_metadata\": [\n",
      "        {\n",
      "          \"name\": \"score\",\n",
      "          \"description\": \"The scores of the detected boxes.\",\n",
      "          \"content\": {\n",
      "            \"content_properties_type\": \"FeatureProperties\",\n",
      "            \"content_properties\": {\n",
      "            },\n",
      "            \"range\": {\n",
      "              \"min\": 2,\n",
      "              \"max\": 2\n",
      "            }\n",
      "          },\n",
      "          \"stats\": {\n",
      "          }\n",
      "        },\n",
      "        {\n",
      "          \"name\": \"location\",\n",
      "          \"description\": \"The locations of the detected boxes.\",\n",
      "          \"content\": {\n",
      "            \"content_properties_type\": \"BoundingBoxProperties\",\n",
      "            \"content_properties\": {\n",
      "              \"index\": [\n",
      "                1,\n",
      "                0,\n",
      "                3,\n",
      "                2\n",
      "              ],\n",
      "              \"type\": \"BOUNDARIES\"\n",
      "            },\n",
      "            \"range\": {\n",
      "              \"min\": 2,\n",
      "              \"max\": 2\n",
      "            }\n",
      "          },\n",
      "          \"stats\": {\n",
      "          }\n",
      "        },\n",
      "        {\n",
      "          \"name\": \"number of detections\",\n",
      "          \"description\": \"The number of the detected boxes.\",\n",
      "          \"content\": {\n",
      "            \"content_properties_type\": \"FeatureProperties\",\n",
      "            \"content_properties\": {\n",
      "            }\n",
      "          },\n",
      "          \"stats\": {\n",
      "          }\n",
      "        },\n",
      "        {\n",
      "          \"name\": \"category\",\n",
      "          \"description\": \"The categories of the detected boxes.\",\n",
      "          \"content\": {\n",
      "            \"content_properties_type\": \"FeatureProperties\",\n",
      "            \"content_properties\": {\n",
      "            },\n",
      "            \"range\": {\n",
      "              \"min\": 2,\n",
      "              \"max\": 2\n",
      "            }\n",
      "          },\n",
      "          \"stats\": {\n",
      "          },\n",
      "          \"associated_files\": [\n",
      "            {\n",
      "              \"name\": \"labels.txt\",\n",
      "              \"description\": \"Labels for categories that the model can recognize.\",\n",
      "              \"type\": \"TENSOR_VALUE_LABELS\"\n",
      "            }\n",
      "          ]\n",
      "        }\n",
      "      ],\n",
      "      \"output_tensor_groups\": [\n",
      "        {\n",
      "          \"name\": \"detection_result\",\n",
      "          \"tensor_names\": [\n",
      "            \"location\",\n",
      "            \"category\",\n",
      "            \"score\"\n",
      "          ]\n",
      "        }\n",
      "      ]\n",
      "    }\n",
      "  ]\n",
      "}\n",
      "\n"
     ]
    }
   ],
   "source": [
    "ObjectDetectorWriter = object_detector.MetadataWriter\n",
    "_modelPath = os.path.join(paths['tfLitePath'], 'saved_model', 'detect.tflite')\n",
    "\n",
    "_labelFile = os.path.join(paths['tfLitePath'], 'saved_model', 'labels.txt')\n",
    "_saveToPath = \"detect_v2.tflite\"\n",
    "\n",
    "_inputNormMean = 127.5\n",
    "_inputNormStd = 127.5\n",
    "\n",
    "writer = ObjectDetectorWriter.create_for_inference(\n",
    "    writer_utils.load_file(_modelPath), [_inputNormMean], [_inputNormStd],\n",
    "    [_labelFile])\n",
    "\n",
    "print(writer.get_metadata_json())\n",
    "\n",
    "writer_utils.save_file(writer.populate(), _saveToPath)"
   ]
  }
 ],
 "metadata": {
  "kernelspec": {
   "display_name": "Python 3 (ipykernel)",
   "language": "python",
   "name": "python3"
  },
  "language_info": {
   "codemirror_mode": {
    "name": "ipython",
    "version": 3
   },
   "file_extension": ".py",
   "mimetype": "text/x-python",
   "name": "python",
   "nbconvert_exporter": "python",
   "pygments_lexer": "ipython3",
   "version": "3.9.13"
  }
 },
 "nbformat": 4,
 "nbformat_minor": 5
}
